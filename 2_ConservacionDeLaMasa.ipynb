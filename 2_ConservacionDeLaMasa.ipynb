{
  "nbformat": 4,
  "nbformat_minor": 0,
  "metadata": {
    "colab": {
      "provenance": [],
      "authorship_tag": "ABX9TyPFqEESSf5c9+q+TpPb1Rb9",
      "include_colab_link": true
    },
    "kernelspec": {
      "name": "python3",
      "display_name": "Python 3"
    },
    "language_info": {
      "name": "python"
    }
  },
  "cells": [
    {
      "cell_type": "markdown",
      "metadata": {
        "id": "view-in-github",
        "colab_type": "text"
      },
      "source": [
        "<a href=\"https://colab.research.google.com/github/valizcanos/BalanceDeMateriaYEnergia/blob/main/2_ConservacionDeLaMasa.ipynb\" target=\"_parent\"><img src=\"https://colab.research.google.com/assets/colab-badge.svg\" alt=\"Open In Colab\"/></a>"
      ]
    },
    {
      "cell_type": "code",
      "execution_count": 1,
      "metadata": {
        "id": "Elm7GSTPe0bk"
      },
      "outputs": [],
      "source": [
        "import pandas as pd\n",
        "import numpy as np\n",
        "from matplotlib import pyplot as plt"
      ]
    },
    {
      "cell_type": "markdown",
      "source": [
        "# **CONSERVACIÓN DE LA MASA**\n",
        "La ecuación de conservación de masa expresa una estimación para la adición y eliminación de masa de una región definida de fluido (volumen de control). La conservación de la masa requiere que la tasa de cambio temporal de la masa dentro del volumen de control sea igual a la tasa a la que la masa ingresa al volumen de control más la tasa a la que se gana o se pierde masa dentro del volumen de control debido a fuentes (generación) y sumideros (consumo)."
      ],
      "metadata": {
        "id": "HMsXLsYrfD-0"
      }
    },
    {
      "cell_type": "markdown",
      "source": [
        "## **Ecuaciones:**"
      ],
      "metadata": {
        "id": "uWDxroeumb3z"
      }
    },
    {
      "cell_type": "markdown",
      "source": [
        "### **Balance de masa general**\n",
        "$\\dot M =  {\\frac{\\partial M}{\\partial t}} = V {\\frac {dC}{dt}} + C {\\frac {dV}{dt}} = \\sum Q_{i}C_{i} - \\sum Q_{o}C_{o} \\tag{1}$ <br>\n",
        "$\\dot M =  {\\frac{\\partial M}{\\partial t}} = V {\\frac {d \\rho}{dt}} + \\rho {\\frac {dV}{dt}} =  \\sum Q_{i} \\rho_{i} - \\sum Q_{o} \\rho_{o} \\tag{2}$"
      ],
      "metadata": {
        "id": "DWhl-fmfn3au"
      }
    },
    {
      "cell_type": "markdown",
      "source": [
        "$\\require{cancel}$\n",
        "$\\begin{equation} Acum. = \\sum M_{i} - \\sum M_{o} \\tag{3}\\end{equation} $<br>\n",
        "$Acum. = \\sum \\dot M_{i} - \\sum \\dot M_{o} \\tag{4}$"
      ],
      "metadata": {
        "id": "ryTg2uTL6NDp"
      }
    },
    {
      "cell_type": "markdown",
      "source": [
        "A concentración constante en el tiempo, la ecuación 1 queda:<br>\n",
        "$\\dot M =  \\cancel V \\cancel {\\frac {dC}{dt}} + C {\\frac {dV}{dt}} = \\sum Q_{i}C_{i} - \\sum Q_{o}C_{o} \\tag{5}$ <br>\n",
        "$\\dot M =  C {\\frac {dV}{dt}} = \\sum Q_{i}C_{i} - \\sum Q_{o}C_{o} \\tag{5}$ <br>"
      ],
      "metadata": {
        "id": "LKsQo8Rh8xa6"
      }
    },
    {
      "cell_type": "markdown",
      "source": [
        "A volumen constante en el tiempo, la ecuación 1 queda:<br>\n",
        "\n",
        "$\\dot M =   V {\\frac {dC}{dt}} + \\cancel C \\cancel {\\frac {dV}{dt}} = \\sum Q_{i}C_{i} - \\sum Q_{o}C_{o} \\tag{6}$ <br>\n",
        "$\\dot M =   V {\\frac {dC}{dt}} = \\sum Q_{i}C_{i} - \\sum Q_{o}C_{o} \\tag{6}$ "
      ],
      "metadata": {
        "id": "EFZZsDbh-WUK"
      }
    },
    {
      "cell_type": "markdown",
      "source": [
        "A concentración y volumen constante en el tiempo, la ecuación 1 queda:<br>\n",
        "$\\dot M =   \\cancel V \\cancel {\\frac {dC}{dt}} + \\cancel C \\cancel {\\frac {dV}{dt}} = \\sum Q_{i}C_{i} - \\sum Q_{o}C_{o} \\tag{7}$ <br>\n",
        "$\\dot M =   \\sum Q_{i}C_{i} - \\sum Q_{o}C_{o} \\tag{7} = 0$ <br>\n",
        "$0 =   \\sum Q_{i}C_{i} - \\sum Q_{o}C_{o} \\tag{7}$ <br>\n",
        "\n",
        "**Estado estacionario** (significa que las condiciones ya no cambiarán con el tiempo). Bajo un estado estacionario, la concentración (y por ende la masa) que está dentro del control de volumen permanece constante."
      ],
      "metadata": {
        "id": "3WM59blk-_55"
      }
    },
    {
      "cell_type": "markdown",
      "source": [
        "# **EJEMPLO 1:**\n",
        "\n",
        "A un tanque lleno con **agua limpia** ingresa un caudal de agua que contiene un contaminante (conservador, es decir que no reacciona) cuya concentración es de 100 mg/l. El caudal de ingreso del contaminante es de 50 $m^{3}/d$  y el volumen del tanque es de 500 $m^3$. ¿Cuál es la concentración del contaminante que sale del tanque como una función del tiempo después del arranque?"
      ],
      "metadata": {
        "id": "aZvO0mr-badt"
      }
    },
    {
      "cell_type": "markdown",
      "source": [
        "## **Respuesta:**\n",
        "De acuerdo al enunciado planteado en el ejemplo 1, este corresponde a un balance de masa en estado no estacionario. "
      ],
      "metadata": {
        "id": "vjGfNjHxfESd"
      }
    },
    {
      "cell_type": "markdown",
      "source": [
        "Debido a que el volumen de agua contenido en el tanque es constante, la ecuación que planteariamos para solucionar este problema será la ecuación 6: <br>\n",
        "$\\dot M =   V {\\frac {dC}{dt}} = \\sum Q_{i}C_{i} - \\sum Q_{o}C_{o} \\tag{6}$ "
      ],
      "metadata": {
        "id": "Tr7qZKAUgW7-"
      }
    },
    {
      "cell_type": "markdown",
      "source": [
        "$V {\\frac {dC}{dt}} = \\sum Q_{i}C_{i} - \\sum Q_{o}C_{o}$ <br> \n",
        "$Q_{i} = Q_{o} = Q$ <br>\n",
        "$V {\\frac {dC}{dt}} =  Q (C_{i} - C_{o})$ <br> \n",
        "${\\frac {dC}{dt}} =  \\frac {Q (C_{i} - C_{o})}{V}$ <br> \n"
      ],
      "metadata": {
        "id": "Dd0JjBXzhJv1"
      }
    },
    {
      "cell_type": "markdown",
      "source": [
        "Con un cambio en las variables, se puede transformar la ecuación de balance de masa en una forma más simple  que se puede integrar directamente. <br>\n",
        "$-{\\frac {dC}{dt}} =  -\\frac {Q (C_{i} - C_{o})}{V}$ <br>  \n",
        "$y =   C_{o} - C_{i}$ <br>\n",
        "${\\frac {dy}{dt}} =  -\\frac {Q y}{V}$ <br> \n",
        "${\\frac {dy}{dt}} = {\\frac{dC_o}{dt}}-{\\frac{dC_i}{dt}} = -\\frac {Q y}{V}$ <br>\n",
        "Debido a que $C_i$ es constante, entonces ${\\frac{dC_i}{dt}} = 0$<br>\n",
        "${\\frac {dy}{dt}} = {\\frac{dC_o}{dt}} = -\\frac {Q y}{V}$"
      ],
      "metadata": {
        "id": "ZbrwQOj6kq3h"
      }
    },
    {
      "cell_type": "markdown",
      "source": [
        "$\\int_{y(0)}^{y(t)} {\\frac {dy}{y}} = \\int_{0}^{t} -{\\frac {Q}{V}} dt$ <br>\n",
        "$ln \\left( \\frac {y(t)}{y(0)} \\right) = -{\\frac {Q}{V}} t$ <br>\n",
        "$ \\left( \\frac {y(t)}{y(0)} \\right) = e^{-{\\frac {Q}{V}} t}$ <br>\n",
        "Recordemos que $y = C_{o} - C_{i}$ <br>\n",
        "$ \\left( \\frac {C_{o}(t) - C_i}{C_{o}(0) - C_i} \\right) = e^{-{\\frac {Q}{V}} t}$ "
      ],
      "metadata": {
        "id": "tZiq61dzl-qp"
      }
    },
    {
      "cell_type": "markdown",
      "source": [
        "Debido a que en el tiempo 0 (t=0) el tanque se encuentra lleno con agua limpia, $C_{o}(0) = 0$. <br>\n",
        "$ \\left( \\frac {C_{o}(t) - C_i}{ - C_i} \\right) = e^{-{\\frac {Q}{V}} t}$ <br>\n",
        "$ \\left( {C_{o}(t) - C_i}\\right) = -C_{i} e^{-{\\frac {Q}{V}} t}$ <br>\n",
        "$ \\left( {C_{o}(t)}\\right) = -C_{i} e^{-{\\frac {Q}{V}} t} + C_i$ <br>"
      ],
      "metadata": {
        "id": "c2vAHoOUp3OA"
      }
    },
    {
      "cell_type": "markdown",
      "source": [
        "Ahora evaluemos la concentración de salida (con la ecuación obtenida) en un rango de tiempo entre 1 y 14 días."
      ],
      "metadata": {
        "id": "wMhXHzY6rCCQ"
      }
    },
    {
      "cell_type": "code",
      "source": [
        "t= np.linspace(1,14,14)\n",
        "t"
      ],
      "metadata": {
        "colab": {
          "base_uri": "https://localhost:8080/"
        },
        "id": "2JAExZHhsAH_",
        "outputId": "52e718ac-7374-4647-9be6-4d6d19a9a2a1"
      },
      "execution_count": 4,
      "outputs": [
        {
          "output_type": "execute_result",
          "data": {
            "text/plain": [
              "array([ 1.,  2.,  3.,  4.,  5.,  6.,  7.,  8.,  9., 10., 11., 12., 13.,\n",
              "       14.])"
            ]
          },
          "metadata": {},
          "execution_count": 4
        }
      ]
    },
    {
      "cell_type": "markdown",
      "source": [
        "$100 \\frac{mg}{l} * \\frac {1000 l}{1 m^3} = 100000 \\frac{mg}{m^3}$"
      ],
      "metadata": {
        "id": "11JSW0InsfnD"
      }
    },
    {
      "cell_type": "code",
      "source": [
        "Ci = 100000"
      ],
      "metadata": {
        "id": "tfJzBaxYsbU6"
      },
      "execution_count": 5,
      "outputs": []
    },
    {
      "cell_type": "code",
      "source": [
        "V = 500"
      ],
      "metadata": {
        "id": "lW3hKcuts9px"
      },
      "execution_count": 6,
      "outputs": []
    },
    {
      "cell_type": "code",
      "source": [
        "Q = 50"
      ],
      "metadata": {
        "id": "mK-8qYZ1tCl2"
      },
      "execution_count": 7,
      "outputs": []
    },
    {
      "cell_type": "code",
      "source": [
        "X = np.exp(-Q*t/V)\n",
        "X"
      ],
      "metadata": {
        "colab": {
          "base_uri": "https://localhost:8080/"
        },
        "id": "-JpHT-P-uroD",
        "outputId": "11386a34-5aaf-4f04-c222-7e1feba9306e"
      },
      "execution_count": 11,
      "outputs": [
        {
          "output_type": "execute_result",
          "data": {
            "text/plain": [
              "array([0.90483742, 0.81873075, 0.74081822, 0.67032005, 0.60653066,\n",
              "       0.54881164, 0.4965853 , 0.44932896, 0.40656966, 0.36787944,\n",
              "       0.33287108, 0.30119421, 0.27253179, 0.24659696])"
            ]
          },
          "metadata": {},
          "execution_count": 11
        }
      ]
    },
    {
      "cell_type": "code",
      "source": [
        "Co = (-Ci * X) + Ci\n",
        "Co"
      ],
      "metadata": {
        "colab": {
          "base_uri": "https://localhost:8080/"
        },
        "id": "293osejytLTp",
        "outputId": "5b5fa9ff-272a-439b-d74e-836e58d58918"
      },
      "execution_count": 14,
      "outputs": [
        {
          "output_type": "execute_result",
          "data": {
            "text/plain": [
              "array([ 9516.2581964 , 18126.9246922 , 25918.17793183, 32967.99539644,\n",
              "       39346.93402874, 45118.8363906 , 50341.46962086, 55067.10358828,\n",
              "       59343.03402594, 63212.05588286, 66712.89163019, 69880.57880878,\n",
              "       72746.8206966 , 75340.30360584])"
            ]
          },
          "metadata": {},
          "execution_count": 14
        }
      ]
    },
    {
      "cell_type": "code",
      "source": [
        "Conc = pd.DataFrame({\"Tiempo (d)\":t, \"C. salida (mg/m3)\": Co})\n",
        "Conc"
      ],
      "metadata": {
        "colab": {
          "base_uri": "https://localhost:8080/",
          "height": 488
        },
        "id": "cE9jHuVsvd1j",
        "outputId": "978c6ca2-549a-44dd-b1e2-bc5164ce1024"
      },
      "execution_count": 18,
      "outputs": [
        {
          "output_type": "execute_result",
          "data": {
            "text/plain": [
              "    Tiempo (d)  C. salida (mg/m3)\n",
              "0          1.0        9516.258196\n",
              "1          2.0       18126.924692\n",
              "2          3.0       25918.177932\n",
              "3          4.0       32967.995396\n",
              "4          5.0       39346.934029\n",
              "5          6.0       45118.836391\n",
              "6          7.0       50341.469621\n",
              "7          8.0       55067.103588\n",
              "8          9.0       59343.034026\n",
              "9         10.0       63212.055883\n",
              "10        11.0       66712.891630\n",
              "11        12.0       69880.578809\n",
              "12        13.0       72746.820697\n",
              "13        14.0       75340.303606"
            ],
            "text/html": [
              "\n",
              "  <div id=\"df-b5a31502-9bb3-4112-a2da-a41c2368acf7\">\n",
              "    <div class=\"colab-df-container\">\n",
              "      <div>\n",
              "<style scoped>\n",
              "    .dataframe tbody tr th:only-of-type {\n",
              "        vertical-align: middle;\n",
              "    }\n",
              "\n",
              "    .dataframe tbody tr th {\n",
              "        vertical-align: top;\n",
              "    }\n",
              "\n",
              "    .dataframe thead th {\n",
              "        text-align: right;\n",
              "    }\n",
              "</style>\n",
              "<table border=\"1\" class=\"dataframe\">\n",
              "  <thead>\n",
              "    <tr style=\"text-align: right;\">\n",
              "      <th></th>\n",
              "      <th>Tiempo (d)</th>\n",
              "      <th>C. salida (mg/m3)</th>\n",
              "    </tr>\n",
              "  </thead>\n",
              "  <tbody>\n",
              "    <tr>\n",
              "      <th>0</th>\n",
              "      <td>1.0</td>\n",
              "      <td>9516.258196</td>\n",
              "    </tr>\n",
              "    <tr>\n",
              "      <th>1</th>\n",
              "      <td>2.0</td>\n",
              "      <td>18126.924692</td>\n",
              "    </tr>\n",
              "    <tr>\n",
              "      <th>2</th>\n",
              "      <td>3.0</td>\n",
              "      <td>25918.177932</td>\n",
              "    </tr>\n",
              "    <tr>\n",
              "      <th>3</th>\n",
              "      <td>4.0</td>\n",
              "      <td>32967.995396</td>\n",
              "    </tr>\n",
              "    <tr>\n",
              "      <th>4</th>\n",
              "      <td>5.0</td>\n",
              "      <td>39346.934029</td>\n",
              "    </tr>\n",
              "    <tr>\n",
              "      <th>5</th>\n",
              "      <td>6.0</td>\n",
              "      <td>45118.836391</td>\n",
              "    </tr>\n",
              "    <tr>\n",
              "      <th>6</th>\n",
              "      <td>7.0</td>\n",
              "      <td>50341.469621</td>\n",
              "    </tr>\n",
              "    <tr>\n",
              "      <th>7</th>\n",
              "      <td>8.0</td>\n",
              "      <td>55067.103588</td>\n",
              "    </tr>\n",
              "    <tr>\n",
              "      <th>8</th>\n",
              "      <td>9.0</td>\n",
              "      <td>59343.034026</td>\n",
              "    </tr>\n",
              "    <tr>\n",
              "      <th>9</th>\n",
              "      <td>10.0</td>\n",
              "      <td>63212.055883</td>\n",
              "    </tr>\n",
              "    <tr>\n",
              "      <th>10</th>\n",
              "      <td>11.0</td>\n",
              "      <td>66712.891630</td>\n",
              "    </tr>\n",
              "    <tr>\n",
              "      <th>11</th>\n",
              "      <td>12.0</td>\n",
              "      <td>69880.578809</td>\n",
              "    </tr>\n",
              "    <tr>\n",
              "      <th>12</th>\n",
              "      <td>13.0</td>\n",
              "      <td>72746.820697</td>\n",
              "    </tr>\n",
              "    <tr>\n",
              "      <th>13</th>\n",
              "      <td>14.0</td>\n",
              "      <td>75340.303606</td>\n",
              "    </tr>\n",
              "  </tbody>\n",
              "</table>\n",
              "</div>\n",
              "      <button class=\"colab-df-convert\" onclick=\"convertToInteractive('df-b5a31502-9bb3-4112-a2da-a41c2368acf7')\"\n",
              "              title=\"Convert this dataframe to an interactive table.\"\n",
              "              style=\"display:none;\">\n",
              "        \n",
              "  <svg xmlns=\"http://www.w3.org/2000/svg\" height=\"24px\"viewBox=\"0 0 24 24\"\n",
              "       width=\"24px\">\n",
              "    <path d=\"M0 0h24v24H0V0z\" fill=\"none\"/>\n",
              "    <path d=\"M18.56 5.44l.94 2.06.94-2.06 2.06-.94-2.06-.94-.94-2.06-.94 2.06-2.06.94zm-11 1L8.5 8.5l.94-2.06 2.06-.94-2.06-.94L8.5 2.5l-.94 2.06-2.06.94zm10 10l.94 2.06.94-2.06 2.06-.94-2.06-.94-.94-2.06-.94 2.06-2.06.94z\"/><path d=\"M17.41 7.96l-1.37-1.37c-.4-.4-.92-.59-1.43-.59-.52 0-1.04.2-1.43.59L10.3 9.45l-7.72 7.72c-.78.78-.78 2.05 0 2.83L4 21.41c.39.39.9.59 1.41.59.51 0 1.02-.2 1.41-.59l7.78-7.78 2.81-2.81c.8-.78.8-2.07 0-2.86zM5.41 20L4 18.59l7.72-7.72 1.47 1.35L5.41 20z\"/>\n",
              "  </svg>\n",
              "      </button>\n",
              "      \n",
              "  <style>\n",
              "    .colab-df-container {\n",
              "      display:flex;\n",
              "      flex-wrap:wrap;\n",
              "      gap: 12px;\n",
              "    }\n",
              "\n",
              "    .colab-df-convert {\n",
              "      background-color: #E8F0FE;\n",
              "      border: none;\n",
              "      border-radius: 50%;\n",
              "      cursor: pointer;\n",
              "      display: none;\n",
              "      fill: #1967D2;\n",
              "      height: 32px;\n",
              "      padding: 0 0 0 0;\n",
              "      width: 32px;\n",
              "    }\n",
              "\n",
              "    .colab-df-convert:hover {\n",
              "      background-color: #E2EBFA;\n",
              "      box-shadow: 0px 1px 2px rgba(60, 64, 67, 0.3), 0px 1px 3px 1px rgba(60, 64, 67, 0.15);\n",
              "      fill: #174EA6;\n",
              "    }\n",
              "\n",
              "    [theme=dark] .colab-df-convert {\n",
              "      background-color: #3B4455;\n",
              "      fill: #D2E3FC;\n",
              "    }\n",
              "\n",
              "    [theme=dark] .colab-df-convert:hover {\n",
              "      background-color: #434B5C;\n",
              "      box-shadow: 0px 1px 3px 1px rgba(0, 0, 0, 0.15);\n",
              "      filter: drop-shadow(0px 1px 2px rgba(0, 0, 0, 0.3));\n",
              "      fill: #FFFFFF;\n",
              "    }\n",
              "  </style>\n",
              "\n",
              "      <script>\n",
              "        const buttonEl =\n",
              "          document.querySelector('#df-b5a31502-9bb3-4112-a2da-a41c2368acf7 button.colab-df-convert');\n",
              "        buttonEl.style.display =\n",
              "          google.colab.kernel.accessAllowed ? 'block' : 'none';\n",
              "\n",
              "        async function convertToInteractive(key) {\n",
              "          const element = document.querySelector('#df-b5a31502-9bb3-4112-a2da-a41c2368acf7');\n",
              "          const dataTable =\n",
              "            await google.colab.kernel.invokeFunction('convertToInteractive',\n",
              "                                                     [key], {});\n",
              "          if (!dataTable) return;\n",
              "\n",
              "          const docLinkHtml = 'Like what you see? Visit the ' +\n",
              "            '<a target=\"_blank\" href=https://colab.research.google.com/notebooks/data_table.ipynb>data table notebook</a>'\n",
              "            + ' to learn more about interactive tables.';\n",
              "          element.innerHTML = '';\n",
              "          dataTable['output_type'] = 'display_data';\n",
              "          await google.colab.output.renderOutput(dataTable, element);\n",
              "          const docLink = document.createElement('div');\n",
              "          docLink.innerHTML = docLinkHtml;\n",
              "          element.appendChild(docLink);\n",
              "        }\n",
              "      </script>\n",
              "    </div>\n",
              "  </div>\n",
              "  "
            ]
          },
          "metadata": {},
          "execution_count": 18
        }
      ]
    },
    {
      "cell_type": "code",
      "source": [
        "plt.plot(Conc[\"Tiempo (d)\"], Conc[\"C. salida (mg/m3)\"])\n",
        "plt.ylabel(\"Concentración de salida (mg/$m^3$)\")\n",
        "plt.xlabel(\"Tiempo (d)\")\n",
        "plt.hlines(100000, 0, 14, linestyles =\"solid\", colors =\"red\")\n",
        "plt.show()"
      ],
      "metadata": {
        "colab": {
          "base_uri": "https://localhost:8080/",
          "height": 279
        },
        "id": "hsICcVQhwG4s",
        "outputId": "b650dc42-7f2f-49c6-dddc-f8555e74e1ce"
      },
      "execution_count": 38,
      "outputs": [
        {
          "output_type": "display_data",
          "data": {
            "text/plain": [
              "<Figure size 432x288 with 1 Axes>"
            ],
            "image/png": "[encoded data removed]"
          },
          "metadata": {
            "needs_background": "light"
          }
        }
      ]
    },
    {
      "cell_type": "markdown",
      "source": [
        "Al cuanto tiempo, la concentración de salida del tanque se es similar a la concentración de entrada (es decir alcanza el estado estacionario)? <br>\n",
        "\n",
        "Probemos con 30 días."
      ],
      "metadata": {
        "id": "jJttgY3mwr4x"
      }
    },
    {
      "cell_type": "code",
      "source": [
        "t2= np.linspace(1,30,30)"
      ],
      "metadata": {
        "id": "WeGIrXUfw2IZ"
      },
      "execution_count": 20,
      "outputs": []
    },
    {
      "cell_type": "code",
      "source": [
        "X2 = np.exp(-Q*t2/V)"
      ],
      "metadata": {
        "id": "aQUpKzhhxHIJ"
      },
      "execution_count": 21,
      "outputs": []
    },
    {
      "cell_type": "code",
      "source": [
        "Co2 = (-Ci * X2) + Ci"
      ],
      "metadata": {
        "id": "PKP5W98_xXJ-"
      },
      "execution_count": 22,
      "outputs": []
    },
    {
      "cell_type": "code",
      "source": [
        "Conc2 = pd.DataFrame({\"Tiempo (d)\":t2, \"C. salida (mg/m3)\": Co2})"
      ],
      "metadata": {
        "id": "ahdVb8GrxPcy"
      },
      "execution_count": 30,
      "outputs": []
    },
    {
      "cell_type": "code",
      "source": [
        "plt.plot(Conc2[\"Tiempo (d)\"], Conc2[\"C. salida (mg/m3)\"])\n",
        "plt.ylabel(\"Concentración de salida (mg/$m^3$)\")\n",
        "plt.xlabel(\"Tiempo (d)\")\n",
        "plt.hlines(100000, 0, 30, linestyles =\"solid\", colors =\"red\")\n",
        "plt.show()"
      ],
      "metadata": {
        "colab": {
          "base_uri": "https://localhost:8080/",
          "height": 279
        },
        "id": "gUSp-rFVxLlx",
        "outputId": "5a486cc6-c79c-4cf6-b059-d6a1fb9bdc47"
      },
      "execution_count": 35,
      "outputs": [
        {
          "output_type": "display_data",
          "data": {
            "text/plain": [
              "<Figure size 432x288 with 1 Axes>"
            ],
            "image/png": "[encoded data removed]"
          },
          "metadata": {
            "needs_background": "light"
          }
        }
      ]
    },
    {
      "cell_type": "markdown",
      "source": [
        "Aun no se ha alcanzado el estado estacionario, pero ya estamos muy cerca de alcanzarlo. Miremos que sucede a los 60 días."
      ],
      "metadata": {
        "id": "Lowp_cOQyloJ"
      }
    },
    {
      "cell_type": "code",
      "source": [
        "t3= np.linspace(1,60,60)\n",
        "X3 = np.exp(-Q*t3/V)\n",
        "Co3 = (-Ci * X3) + Ci\n",
        "Conc3 = pd.DataFrame({\"Tiempo (d)\":t3, \"C. salida (mg/m3)\": Co3})"
      ],
      "metadata": {
        "id": "AW1EIoKIykei"
      },
      "execution_count": 36,
      "outputs": []
    },
    {
      "cell_type": "code",
      "source": [
        "plt.plot(Conc3[\"Tiempo (d)\"], Conc3[\"C. salida (mg/m3)\"])\n",
        "plt.ylabel(\"Concentración de salida (mg/$m^3$)\")\n",
        "plt.xlabel(\"Tiempo (d)\")\n",
        "plt.hlines(100000, 0, 60, linestyles =\"solid\", colors =\"red\")\n",
        "plt.show()"
      ],
      "metadata": {
        "colab": {
          "base_uri": "https://localhost:8080/",
          "height": 279
        },
        "id": "6Gt9oBs0zH1j",
        "outputId": "c84a8646-5d0e-4785-e8a9-285e5fba9eba"
      },
      "execution_count": 37,
      "outputs": [
        {
          "output_type": "display_data",
          "data": {
            "text/plain": [
              "<Figure size 432x288 with 1 Axes>"
            ],
            "image/png": "[encoded data removed]"
          },
          "metadata": {
            "needs_background": "light"
          }
        }
      ]
    },
    {
      "cell_type": "markdown",
      "source": [
        "# **EJERCICIO**\n",
        "Un tanque de 100 $ft^3$ contiene 30 $ft^3$ de agua. Una corriente de agua residual  tiene una concentración de 2 $lb/ft^3$ del contaminante $A$ que fluye hacia el tanque a un caudal de 3 $ft^{3}/min$.<br>\n",
        "\n",
        "Mientrás el tanque se está llenando, se extrae agua de él a un caudal de 1 $ft^{3}/min$. Suponga que el tanque se mezcla completamente con el agua residual (esto quiere decir que la concentración del contaminante $A$ contenida en el tanque será la misma del efluente). <br>\n",
        "\n",
        "Calcule la concentración de $A$ en el efluente cuando el tanque contenga 50 $ft^3$ de mezcla. **Nota:** el contaminante $A$ no es reactivo."
      ],
      "metadata": {
        "id": "BZhFCKjD1pom"
      }
    },
    {
      "cell_type": "markdown",
      "source": [
        "## **Nota**\n",
        "Debido a que tanto el volumen como la concentración están variado en el tiempo, el problema se debe abordar como un balance de masa en estado estacionario. Para ello empleamos la ecuación 1. <br>\n",
        "$\\dot M =  {\\frac{\\partial M}{\\partial t}} = V {\\frac {dC}{dt}} + C {\\frac {dV}{dt}} = \\sum Q_{i}C_{i} - \\sum Q_{o}C_{o} \\tag{1}$ <br>"
      ],
      "metadata": {
        "id": "X-V6zY3c5FFJ"
      }
    }
  ]
}