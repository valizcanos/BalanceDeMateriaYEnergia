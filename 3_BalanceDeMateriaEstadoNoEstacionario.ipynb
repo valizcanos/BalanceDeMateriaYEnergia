{
 "cells": [
  {
   "cell_type": "code",
   "execution_count": 1,
   "id": "d4163f14",
   "metadata": {},
   "outputs": [
    {
     "data": {
      "text/plain": [
       "<function sympy.interactive.printing.init_printing(pretty_print=True, order=None, use_unicode=None, use_latex=None, wrap_line=None, num_columns=None, no_global=False, ip=None, euler=False, forecolor=None, backcolor='Transparent', fontsize='10pt', latex_mode='plain', print_builtin=True, str_printer=None, pretty_printer=None, latex_printer=None, scale=1.0, **settings)>"
      ]
     },
     "execution_count": 1,
     "metadata": {},
     "output_type": "execute_result"
    }
   ],
   "source": [
    "from sympy import *\n",
    "init_printing # facilita la impresión de las expresiones matemáticas"
   ]
  },
  {
   "cell_type": "code",
   "execution_count": 2,
   "id": "de392dd8",
   "metadata": {},
   "outputs": [],
   "source": [
    "import numpy as np\n",
    "import matplotlib.pyplot as plt"
   ]
  },
  {
   "cell_type": "markdown",
   "id": "a33086d3",
   "metadata": {},
   "source": [
    "# Balance de materia en estado no estacionario"
   ]
  },
  {
   "cell_type": "markdown",
   "id": "dca09e1b",
   "metadata": {},
   "source": [
    "## <font style=\"color:red\">Ejemplo 1</font>"
   ]
  },
  {
   "cell_type": "markdown",
   "id": "02d27074",
   "metadata": {},
   "source": [
    "<img src=\"BMNE1.png\" alt=\"Balance de materia en estado no estacionario\">"
   ]
  },
  {
   "cell_type": "markdown",
   "id": "3c582698",
   "metadata": {},
   "source": [
    "$\n",
    "Q_e = Q_s = Q\n",
    "$"
   ]
  },
  {
   "cell_type": "markdown",
   "id": "2014cc0a",
   "metadata": {},
   "source": [
    "$\n",
    "V \\frac{dC}{dt} = Q (C_e - C_s)\n",
    "$"
   ]
  },
  {
   "cell_type": "markdown",
   "id": "7be5b08f",
   "metadata": {},
   "source": [
    "$\n",
    "(C_e - C_s) = y\n",
    "$ <br>"
   ]
  },
  {
   "cell_type": "markdown",
   "id": "5a460245",
   "metadata": {},
   "source": [
    "$\n",
    "-\\frac{dC}{dt} =  \\frac{dy}{dt}\n",
    "$ <br>"
   ]
  },
  {
   "cell_type": "markdown",
   "id": "5761cf28",
   "metadata": {},
   "source": [
    "$\n",
    " \\frac{dC}{dt} =  -\\frac{dy}{dt}\n",
    "$"
   ]
  },
  {
   "cell_type": "markdown",
   "id": "6a83bfcf",
   "metadata": {},
   "source": [
    "$\n",
    "-\\frac{dy}{dt} = \\frac{Q}{V} y\n",
    "$"
   ]
  },
  {
   "cell_type": "markdown",
   "id": "ab1ddc67",
   "metadata": {},
   "source": [
    "$\n",
    "\\frac{dy}{dt} = -\\frac{Q}{V} y\n",
    "$<br>\n",
    "\n",
    "$\n",
    "\\int_{y_0}^{y_t} \\frac{1}{y} dy= -\\frac{Q}{V} \\int_{t_0}^{t} dt\n",
    "$<br>\n",
    "\n",
    "$\n",
    "ln \\left( \\frac{y_t}{y_0} \\right)= -\\frac{Q}{V} (t-t_0)\n",
    "$ <br>\n",
    "\n",
    "$\n",
    "ln \\left( \\frac{C_t - C_e}{C_0 - C_e} \\right)= -\\frac{Q}{V} (t-t_0)\n",
    "$ <br>\n",
    "\n",
    "$\n",
    "\\frac{C_t - C_e}{C_0 - C_e} = e^{-\\frac{Q}{V} (t-t_0)}\n",
    "$ <br>\n",
    "\n",
    "$\n",
    "{C_t } = ({C_0 - C_e}) e^{-\\frac{Q}{V} (t-t_0)} + C_e\n",
    "$ <br>"
   ]
  },
  {
   "cell_type": "markdown",
   "id": "96297dd4",
   "metadata": {},
   "source": [
    "### <font style=\"color:green\"> Representación con sympy</font>"
   ]
  },
  {
   "cell_type": "code",
   "execution_count": 3,
   "id": "a89a873f",
   "metadata": {},
   "outputs": [],
   "source": [
    "V = 1 # en m3\n",
    "Q = 1.1 # en m3/d\n",
    "t = symbols(\"t\")\n",
    "C = Function(\"C\")\n",
    "Ce = 0.1 # g/d"
   ]
  },
  {
   "cell_type": "code",
   "execution_count": 4,
   "id": "857ca50d",
   "metadata": {},
   "outputs": [
    {
     "data": {
      "text/latex": [
       "$\\displaystyle C{\\left(t \\right)}$"
      ],
      "text/plain": [
       "C(t)"
      ]
     },
     "execution_count": 4,
     "metadata": {},
     "output_type": "execute_result"
    }
   ],
   "source": [
    "C(t)"
   ]
  },
  {
   "cell_type": "code",
   "execution_count": 5,
   "id": "6f53b4d1",
   "metadata": {},
   "outputs": [
    {
     "data": {
      "text/latex": [
       "$\\displaystyle t$"
      ],
      "text/plain": [
       "t"
      ]
     },
     "execution_count": 5,
     "metadata": {},
     "output_type": "execute_result"
    }
   ],
   "source": [
    "t"
   ]
  },
  {
   "cell_type": "code",
   "execution_count": 6,
   "id": "edd58f62",
   "metadata": {},
   "outputs": [],
   "source": [
    "eq1 = Eq(V*C(t).diff(t,1), Q*(Ce-C(t)))"
   ]
  },
  {
   "cell_type": "code",
   "execution_count": 7,
   "id": "15646c0b",
   "metadata": {},
   "outputs": [
    {
     "data": {
      "text/latex": [
       "$\\displaystyle \\frac{d}{d t} C{\\left(t \\right)} = 0.11 - 1.1 C{\\left(t \\right)}$"
      ],
      "text/plain": [
       "Eq(Derivative(C(t), t), 0.11 - 1.1*C(t))"
      ]
     },
     "execution_count": 7,
     "metadata": {},
     "output_type": "execute_result"
    }
   ],
   "source": [
    "eq1"
   ]
  },
  {
   "cell_type": "code",
   "execution_count": 8,
   "id": "24fb3bc2",
   "metadata": {},
   "outputs": [],
   "source": [
    "ci1 = {C(0):0} # Asignamos a C0 un valor de 0 g/m3"
   ]
  },
  {
   "cell_type": "code",
   "execution_count": 9,
   "id": "3d4d7f15",
   "metadata": {},
   "outputs": [],
   "source": [
    "solucion1 = dsolve(eq1, C(t),ics=ci1)  #En este primer caso C0 se asume como 0 g/m3"
   ]
  },
  {
   "cell_type": "code",
   "execution_count": 10,
   "id": "004c45bb",
   "metadata": {},
   "outputs": [
    {
     "data": {
      "text/latex": [
       "$\\displaystyle C{\\left(t \\right)} = 0.1 - 0.1 e^{- 1.1 t}$"
      ],
      "text/plain": [
       "Eq(C(t), 0.1 - 0.1*exp(-1.1*t))"
      ]
     },
     "execution_count": 10,
     "metadata": {},
     "output_type": "execute_result"
    }
   ],
   "source": [
    "solucion1 "
   ]
  },
  {
   "cell_type": "markdown",
   "id": "a1a503d2",
   "metadata": {},
   "source": [
    "<a href=\"https://www.tutorialspoint.com/sympy/sympy_plotting.htm\">graficos sympy</a> <br>\n",
    "\n",
    "<a href=\"https://www.cfm.brown.edu/people/dobrush/am33/SymPy/part1.html\">graficos sympy 2</a> "
   ]
  },
  {
   "cell_type": "code",
   "execution_count": 11,
   "id": "a30f7530",
   "metadata": {},
   "outputs": [
    {
     "data": {
      "image/png": "[encoded data removed]",
      "text/plain": [
       "<Figure size 640x480 with 1 Axes>"
      ]
     },
     "metadata": {},
     "output_type": "display_data"
    },
    {
     "data": {
      "text/plain": [
       "<sympy.plotting.plot.Plot at 0x2200dd8f190>"
      ]
     },
     "execution_count": 11,
     "metadata": {},
     "output_type": "execute_result"
    }
   ],
   "source": [
    "plot(solucion1.rhs, (t,0,10),  line_color=\"red\", ylabel=\"C(t), $g*m^3$\", xlabel =\"días\")"
   ]
  },
  {
   "cell_type": "code",
   "execution_count": 12,
   "id": "26da9ded",
   "metadata": {},
   "outputs": [
    {
     "data": {
      "image/png": "[encoded data removed]",
      "text/plain": [
       "<Figure size 640x480 with 1 Axes>"
      ]
     },
     "metadata": {},
     "output_type": "display_data"
    },
    {
     "data": {
      "text/plain": [
       "<sympy.plotting.plot.Plot at 0x2200e6ccf50>"
      ]
     },
     "execution_count": 12,
     "metadata": {},
     "output_type": "execute_result"
    }
   ],
   "source": [
    "plot(solucion1.rhs, (t,0,10), xlim=(2,6), line_color=\"red\", ylabel=\"C(t), $g*m^3$\", xlabel =\"días\")"
   ]
  },
  {
   "cell_type": "code",
   "execution_count": 13,
   "id": "27a7c756",
   "metadata": {},
   "outputs": [
    {
     "data": {
      "text/latex": [
       "$\\displaystyle C{\\left(0 \\right)} = 0$"
      ],
      "text/plain": [
       "Eq(C(0), 0)"
      ]
     },
     "metadata": {},
     "output_type": "display_data"
    },
    {
     "data": {
      "text/latex": [
       "$\\displaystyle C{\\left(1 \\right)} = 0.0667128916301921$"
      ],
      "text/plain": [
       "Eq(C(1), 0.0667128916301921)"
      ]
     },
     "metadata": {},
     "output_type": "display_data"
    },
    {
     "data": {
      "text/latex": [
       "$\\displaystyle C{\\left(2 \\right)} = 0.0889196841637666$"
      ],
      "text/plain": [
       "Eq(C(2), 0.0889196841637666)"
      ]
     },
     "metadata": {},
     "output_type": "display_data"
    },
    {
     "data": {
      "text/latex": [
       "$\\displaystyle C{\\left(3 \\right)} = 0.096311683259876$"
      ],
      "text/plain": [
       "Eq(C(3), 0.096311683259876)"
      ]
     },
     "metadata": {},
     "output_type": "display_data"
    },
    {
     "data": {
      "text/latex": [
       "$\\displaystyle C{\\left(4 \\right)} = 0.0987722660096932$"
      ],
      "text/plain": [
       "Eq(C(4), 0.0987722660096932)"
      ]
     },
     "metadata": {},
     "output_type": "display_data"
    },
    {
     "data": {
      "text/latex": [
       "$\\displaystyle C{\\left(5 \\right)} = 0.0995913228561536$"
      ],
      "text/plain": [
       "Eq(C(5), 0.0995913228561536)"
      ]
     },
     "metadata": {},
     "output_type": "display_data"
    },
    {
     "data": {
      "text/latex": [
       "$\\displaystyle C{\\left(6 \\right)} = 0.0998639631962452$"
      ],
      "text/plain": [
       "Eq(C(6), 0.0998639631962452)"
      ]
     },
     "metadata": {},
     "output_type": "display_data"
    },
    {
     "data": {
      "text/latex": [
       "$\\displaystyle C{\\left(7 \\right)} = 0.0999547172817113$"
      ],
      "text/plain": [
       "Eq(C(7), 0.0999547172817113)"
      ]
     },
     "metadata": {},
     "output_type": "display_data"
    },
    {
     "data": {
      "text/latex": [
       "$\\displaystyle C{\\left(8 \\right)} = 0.0999849266924905$"
      ],
      "text/plain": [
       "Eq(C(8), 0.0999849266924905)"
      ]
     },
     "metadata": {},
     "output_type": "display_data"
    },
    {
     "data": {
      "text/latex": [
       "$\\displaystyle C{\\left(9 \\right)} = 0.0999949825317944$"
      ],
      "text/plain": [
       "Eq(C(9), 0.0999949825317944)"
      ]
     },
     "metadata": {},
     "output_type": "display_data"
    },
    {
     "data": {
      "text/latex": [
       "$\\displaystyle C{\\left(10 \\right)} = 0.099998329829921$"
      ],
      "text/plain": [
       "Eq(C(10), 0.099998329829921)"
      ]
     },
     "metadata": {},
     "output_type": "display_data"
    }
   ],
   "source": [
    "# Analicemos las concentraciones dentro del recipiente en los primeros 20 días\n",
    "for i in range(11): \n",
    "    display(solucion1.subs(t,i).evalf())"
   ]
  },
  {
   "cell_type": "markdown",
   "id": "eb194ee4",
   "metadata": {},
   "source": [
    "## <font style=\"color:red\">Ejemplo 2</font>"
   ]
  },
  {
   "cell_type": "markdown",
   "id": "83e0c655",
   "metadata": {},
   "source": [
    "<img src=\"BMNE2.png\" alt=\"Balance de materia en estado no estacionario\">"
   ]
  },
  {
   "cell_type": "markdown",
   "id": "7072a7bd",
   "metadata": {},
   "source": [
    "### <font style=\"color:green\"> Vamos a representarlo con sympy basandonos en el caso anterior</font>"
   ]
  },
  {
   "cell_type": "code",
   "execution_count": 14,
   "id": "66e73f84",
   "metadata": {},
   "outputs": [],
   "source": [
    "ci2 = {C(0):0.05} #Asignamos C0 un valor de 0.05 g/m3"
   ]
  },
  {
   "cell_type": "code",
   "execution_count": 15,
   "id": "fea836ae",
   "metadata": {},
   "outputs": [],
   "source": [
    "solucion2 = dsolve(eq1, C(t),ics=ci2)  #En este primer caso C0 se asume como 0.05 g/m3"
   ]
  },
  {
   "cell_type": "code",
   "execution_count": 16,
   "id": "352c3de3",
   "metadata": {},
   "outputs": [
    {
     "data": {
      "text/latex": [
       "$\\displaystyle C{\\left(t \\right)} = 0.1 - 0.05 e^{- 1.1 t}$"
      ],
      "text/plain": [
       "Eq(C(t), 0.1 - 0.05*exp(-1.1*t))"
      ]
     },
     "execution_count": 16,
     "metadata": {},
     "output_type": "execute_result"
    }
   ],
   "source": [
    "solucion2"
   ]
  },
  {
   "cell_type": "code",
   "execution_count": 17,
   "id": "ce6b302a",
   "metadata": {},
   "outputs": [
    {
     "data": {
      "image/png": "[encoded data removed]",
      "text/plain": [
       "<Figure size 640x480 with 1 Axes>"
      ]
     },
     "metadata": {},
     "output_type": "display_data"
    },
    {
     "data": {
      "text/plain": [
       "<sympy.plotting.plot.Plot at 0x2200ea2a450>"
      ]
     },
     "execution_count": 17,
     "metadata": {},
     "output_type": "execute_result"
    }
   ],
   "source": [
    "plot(solucion2.rhs, (t,0,10),line_color=\"red\", ylabel=\"C(t), $g*m^3$\", xlabel =\"días\")"
   ]
  },
  {
   "cell_type": "code",
   "execution_count": 18,
   "id": "2338c702",
   "metadata": {},
   "outputs": [
    {
     "data": {
      "image/png": "[encoded data removed]",
      "text/plain": [
       "<Figure size 640x480 with 1 Axes>"
      ]
     },
     "metadata": {},
     "output_type": "display_data"
    }
   ],
   "source": [
    "p1 = plot(solucion1.rhs ,(t,0,10), ylabel=\"C(t), $g*m^3$\", xlabel =\"días\", legend=True, show=False)\n",
    "p2 = plot(solucion2.rhs,  (t,0,10), ylabel=\"C(t), $g*m^3$\", xlabel =\"días\", legend=True , show=False)\n",
    "\n",
    "p1[0].label = 'C0 = 0 $g/m^3$'\n",
    "p2[0].label = 'C0 = 0.05 $g/m^3$'\n",
    "\n",
    "p1.append(p2[0])\n",
    "\n",
    "p1.show()"
   ]
  },
  {
   "cell_type": "markdown",
   "id": "dd33c62e",
   "metadata": {},
   "source": [
    "## <font style=\"color:red\">Ejemplo 3</font>"
   ]
  },
  {
   "cell_type": "markdown",
   "id": "45b31b4f",
   "metadata": {},
   "source": [
    "<img src=\"BMNE3.png\" alt=\"Balance de materia en estado no estacionario\">"
   ]
  },
  {
   "cell_type": "code",
   "execution_count": 19,
   "id": "f469e8e6",
   "metadata": {},
   "outputs": [],
   "source": [
    "ci3 = {C(0):1} #C0 es de 1 g/m3"
   ]
  },
  {
   "cell_type": "code",
   "execution_count": 20,
   "id": "ac5010a4",
   "metadata": {},
   "outputs": [],
   "source": [
    "solucion3 = dsolve(eq1, C(t),ics=ci3)  #En este primer caso C0 se asume como 1 g/m3"
   ]
  },
  {
   "cell_type": "code",
   "execution_count": 21,
   "id": "6b69180b",
   "metadata": {},
   "outputs": [
    {
     "data": {
      "text/latex": [
       "$\\displaystyle C{\\left(t \\right)} = 0.1 + 0.9 e^{- 1.1 t}$"
      ],
      "text/plain": [
       "Eq(C(t), 0.1 + 0.9*exp(-1.1*t))"
      ]
     },
     "execution_count": 21,
     "metadata": {},
     "output_type": "execute_result"
    }
   ],
   "source": [
    "solucion3"
   ]
  },
  {
   "cell_type": "code",
   "execution_count": 22,
   "id": "38457e37",
   "metadata": {},
   "outputs": [
    {
     "data": {
      "image/png": "[encoded data removed]",
      "text/plain": [
       "<Figure size 640x480 with 1 Axes>"
      ]
     },
     "metadata": {},
     "output_type": "display_data"
    },
    {
     "data": {
      "text/plain": [
       "<sympy.plotting.plot.Plot at 0x2200e91f910>"
      ]
     },
     "execution_count": 22,
     "metadata": {},
     "output_type": "execute_result"
    }
   ],
   "source": [
    "plot(solucion3.rhs, (t,0,10),line_color=\"red\", ylabel=\"C(t), $g*m^3$\", xlabel =\"días\")"
   ]
  },
  {
   "cell_type": "markdown",
   "id": "59b80273",
   "metadata": {},
   "source": [
    "## <font style=\"color:red\">Ejemplo 4</font>"
   ]
  },
  {
   "cell_type": "markdown",
   "id": "c5391f43",
   "metadata": {},
   "source": [
    "<img src=\"BMNE4.png\" alt=\"Balance de materia en estado no estacionario\">"
   ]
  },
  {
   "cell_type": "code",
   "execution_count": 23,
   "id": "9dfc10c1",
   "metadata": {},
   "outputs": [],
   "source": [
    "V = 1 # en m3\n",
    "Q = 0.1+0.3# en m3/d\n",
    "t = symbols(\"t\")\n",
    "C = Function(\"C\")\n",
    "Ce = 0.1 + 0.4 # g/d"
   ]
  },
  {
   "cell_type": "code",
   "execution_count": 24,
   "id": "869ca8c6",
   "metadata": {},
   "outputs": [
    {
     "data": {
      "text/latex": [
       "$\\displaystyle \\frac{d}{d t} C{\\left(t \\right)} = 0.2 - 0.4 C{\\left(t \\right)}$"
      ],
      "text/plain": [
       "Eq(Derivative(C(t), t), 0.2 - 0.4*C(t))"
      ]
     },
     "execution_count": 24,
     "metadata": {},
     "output_type": "execute_result"
    }
   ],
   "source": [
    "eq4 = Eq(V*C(t).diff(t,1), Q*(Ce-C(t)))\n",
    "eq4"
   ]
  },
  {
   "cell_type": "code",
   "execution_count": 25,
   "id": "1cb71bf9",
   "metadata": {},
   "outputs": [],
   "source": [
    "ci4 = {C(0):0.2} #C0 es de 0.2 g/m3"
   ]
  },
  {
   "cell_type": "code",
   "execution_count": 26,
   "id": "9036c8fe",
   "metadata": {},
   "outputs": [
    {
     "data": {
      "text/latex": [
       "$\\displaystyle C{\\left(t \\right)} = 0.5 - 0.3 e^{- 0.4 t}$"
      ],
      "text/plain": [
       "Eq(C(t), 0.5 - 0.3*exp(-0.4*t))"
      ]
     },
     "execution_count": 26,
     "metadata": {},
     "output_type": "execute_result"
    }
   ],
   "source": [
    "solucion4 = dsolve(eq4, C(t),ics=ci4)\n",
    "solucion4"
   ]
  },
  {
   "cell_type": "code",
   "execution_count": 27,
   "id": "bdf68adb",
   "metadata": {},
   "outputs": [
    {
     "data": {
      "image/png": "[encoded data removed]",
      "text/plain": [
       "<Figure size 640x480 with 1 Axes>"
      ]
     },
     "metadata": {},
     "output_type": "display_data"
    },
    {
     "data": {
      "text/plain": [
       "<sympy.plotting.plot.Plot at 0x2200db50cd0>"
      ]
     },
     "execution_count": 27,
     "metadata": {},
     "output_type": "execute_result"
    }
   ],
   "source": [
    "plot(solucion4.rhs, (t,0,10),line_color=\"red\", ylabel=\"C(t), $g*m^3$\", xlabel =\"días\")"
   ]
  },
  {
   "cell_type": "markdown",
   "id": "4e46e2a6",
   "metadata": {},
   "source": [
    "## <font style=\"color:red\">EJEMPLO 5</font>"
   ]
  },
  {
   "cell_type": "markdown",
   "id": "e69dfdc4",
   "metadata": {},
   "source": [
    "<img src=\"BMNE5.png\" alt=\"Balance de materia en estado no estacionario\">"
   ]
  },
  {
   "cell_type": "code",
   "execution_count": 28,
   "id": "b58c9612",
   "metadata": {},
   "outputs": [],
   "source": [
    "v = Function('v')(symbols('t'))\n",
    "c = Function('c')(symbols('t'))"
   ]
  },
  {
   "cell_type": "code",
   "execution_count": 29,
   "id": "7badcd1f",
   "metadata": {},
   "outputs": [],
   "source": [
    "cEntrada = 0.1\n",
    "qEntrada = 0.5\n",
    "qSalida = 0.1"
   ]
  },
  {
   "cell_type": "code",
   "execution_count": 30,
   "id": "3ba3c2fc",
   "metadata": {},
   "outputs": [
    {
     "data": {
      "text/latex": [
       "$\\displaystyle \\frac{d}{d t} v{\\left(t \\right)}$"
      ],
      "text/plain": [
       "Derivative(v(t), t)"
      ]
     },
     "execution_count": 30,
     "metadata": {},
     "output_type": "execute_result"
    }
   ],
   "source": [
    "v.diff()"
   ]
  },
  {
   "cell_type": "code",
   "execution_count": 31,
   "id": "e9d9cc2f",
   "metadata": {},
   "outputs": [],
   "source": [
    "Ecuacion = Eq(1*v.diff() + 0.1*c.diff(),cEntrada*qEntrada - c*qSalida)"
   ]
  },
  {
   "cell_type": "code",
   "execution_count": 32,
   "id": "d4346c04",
   "metadata": {},
   "outputs": [
    {
     "data": {
      "text/latex": [
       "$\\displaystyle 0.1 \\frac{d}{d t} c{\\left(t \\right)} + \\frac{d}{d t} v{\\left(t \\right)} = 0.05 - 0.1 c{\\left(t \\right)}$"
      ],
      "text/plain": [
       "Eq(0.1*Derivative(c(t), t) + Derivative(v(t), t), 0.05 - 0.1*c(t))"
      ]
     },
     "execution_count": 32,
     "metadata": {},
     "output_type": "execute_result"
    }
   ],
   "source": [
    "Ecuacion"
   ]
  },
  {
   "cell_type": "markdown",
   "id": "e1e2f29f",
   "metadata": {},
   "source": [
    "Verifiquemos la ecuación"
   ]
  },
  {
   "cell_type": "markdown",
   "id": "edb37797",
   "metadata": {},
   "source": [
    "$\n",
    "\\frac{dV}{dt} = 0.5 \\frac{m^3}{d} - 0.1 \\frac{m^3}{d}\n",
    "$"
   ]
  },
  {
   "cell_type": "markdown",
   "id": "ab0f8a10",
   "metadata": {},
   "source": [
    "$\n",
    "\\frac{dV}{dt} = 0.4 \\frac{m^3}{d}\n",
    "$"
   ]
  },
  {
   "cell_type": "markdown",
   "id": "74eb991a",
   "metadata": {},
   "source": [
    "$\n",
    "\\int_{V_i}^{V_f} dV = 0.4 \\frac{m^3}{d} \\int_{t_i}^{t_f} dt\n",
    "$"
   ]
  },
  {
   "cell_type": "markdown",
   "id": "c532db8f",
   "metadata": {},
   "source": [
    "$\n",
    "V_f - V_i = 0.4\\frac{m^3}{d} (t_f - t_i)\n",
    "$"
   ]
  },
  {
   "cell_type": "markdown",
   "id": "4de344da",
   "metadata": {},
   "source": [
    "$\n",
    "0.7 m^3 = 0.4\\frac{m^3}{d}*t_f\n",
    "$"
   ]
  },
  {
   "cell_type": "markdown",
   "id": "9bb48771",
   "metadata": {},
   "source": [
    "$\n",
    "t_f = 1.75 d\n",
    "$"
   ]
  },
  {
   "cell_type": "markdown",
   "id": "27bba09f",
   "metadata": {},
   "source": [
    "<hr>"
   ]
  },
  {
   "cell_type": "markdown",
   "id": "a5e2e74d",
   "metadata": {},
   "source": [
    "$\n",
    "V\\frac{dC}{dt} = (0.5 \\frac{m^3}{d} * 0.1 \\frac{g}{m^3})-(0.1 \\frac{m^3}{d}*C_s)\n",
    "$"
   ]
  },
  {
   "cell_type": "markdown",
   "id": "71fa5180",
   "metadata": {},
   "source": [
    "$\n",
    "V\\frac{dC}{dt} = (0.05 \\frac{g}{d})-(0.1 \\frac{m^3}{d}*C_s)\n",
    "$"
   ]
  },
  {
   "cell_type": "markdown",
   "id": "5ba057d8",
   "metadata": {},
   "source": [
    "$\n",
    "\\frac{dC}{dt} = \\frac{(0.05 \\frac{g}{d})}{V} - \\frac{(0.1 \\frac{m^3}{d}*C_s)}{V}\n",
    "$"
   ]
  },
  {
   "cell_type": "markdown",
   "id": "be9a9f83",
   "metadata": {},
   "source": [
    "$\n",
    "\\frac{dC}{dt} = \\frac{(0.05 \\frac{g}{d})}{1 m^3} - \\frac{(0.1 \\frac{m^3}{d}*C_s)}{1 m^3}\n",
    "$"
   ]
  },
  {
   "cell_type": "markdown",
   "id": "a0671ea3",
   "metadata": {},
   "source": [
    "$\n",
    "\\frac{dC}{dt} = (0.05 \\frac{g}{d * m^3}) - (0.1 \\frac{1}{d}*C_s)\n",
    "$"
   ]
  },
  {
   "cell_type": "markdown",
   "id": "b08187da",
   "metadata": {},
   "source": [
    "$\n",
    "-\\frac{dC}{dt} = (0.1 \\frac{1}{d}*C_s) - (0.05 \\frac{g}{d * m^3}) \n",
    "$"
   ]
  },
  {
   "cell_type": "markdown",
   "id": "77b310c8",
   "metadata": {},
   "source": [
    "$\n",
    "y = (0.1 \\frac{1}{d}*C_s) - (0.05 \\frac{g}{d * m^3}) \n",
    "$\n"
   ]
  },
  {
   "cell_type": "markdown",
   "id": "502ea29c",
   "metadata": {},
   "source": [
    "$\n",
    "\\frac{dy}{dC}= 0.1\n",
    "$"
   ]
  },
  {
   "cell_type": "markdown",
   "id": "0d6f5292",
   "metadata": {},
   "source": [
    "$\n",
    "dy = 0.1dC\n",
    "$"
   ]
  },
  {
   "cell_type": "markdown",
   "id": "a078f4b1",
   "metadata": {},
   "source": [
    "$\n",
    "dC = 10dy\n",
    "$"
   ]
  },
  {
   "cell_type": "markdown",
   "id": "a6e76dad",
   "metadata": {},
   "source": [
    "$\n",
    "-10\\frac{dy}{dt} = y\n",
    "$"
   ]
  },
  {
   "cell_type": "markdown",
   "id": "840db1f7",
   "metadata": {},
   "source": [
    "Integrando"
   ]
  },
  {
   "cell_type": "markdown",
   "id": "3dacfd29",
   "metadata": {},
   "source": [
    "$\n",
    "-10*ln \\left(\\frac{y_t}{y_0} \\right) = (t-t_0)\n",
    "$"
   ]
  },
  {
   "cell_type": "markdown",
   "id": "b62d5cc4",
   "metadata": {},
   "source": [
    "$\n",
    "-10*ln \\left(\\frac{(0.1 \\frac{1}{d}*C_t) - (0.05 \\frac{g}{d * m^3})}{- (0.05 \\frac{g}{d * m^3})} \\right) = (t-t_0)\n",
    "$"
   ]
  },
  {
   "cell_type": "markdown",
   "id": "c4af2729",
   "metadata": {},
   "source": [
    "$\n",
    "ln \\left(\\frac{(0.1 \\frac{1}{d}*C_t) - (0.05 \\frac{g}{d * m^3})}{- (0.05 \\frac{g}{d * m^3})} \\right) = -\\frac{(t-t_0)}{10}\n",
    "$"
   ]
  },
  {
   "cell_type": "markdown",
   "id": "73e0e658",
   "metadata": {},
   "source": [
    "$\n",
    "(0.1 \\frac{1}{d}*C_t) - (0.05 \\frac{g}{d * m^3}) = - (0.05 \\frac{g}{d * m^3}) * e^{-\\frac{(t-t_0)}{10}}\n",
    "$"
   ]
  },
  {
   "cell_type": "markdown",
   "id": "f936fb24",
   "metadata": {},
   "source": [
    "$\n",
    "(0.1 \\frac{1}{d}*C_t) = - (0.05 \\frac{g}{d * m^3}) * e^{-\\frac{(t-t_0)}{10}}  + (0.05 \\frac{g}{d * m^3})\n",
    "$"
   ]
  },
  {
   "cell_type": "markdown",
   "id": "8e1b9bb7",
   "metadata": {},
   "source": [
    "$\n",
    "C_t = - (0.5 \\frac{g}{m^3}) * e^{-\\frac{(t-t_0)}{10}}  + (0.5 \\frac{g}{ m^3})\n",
    "$"
   ]
  },
  {
   "cell_type": "markdown",
   "id": "c1db9f0d",
   "metadata": {},
   "source": [
    "$\n",
    "C_t = - (0.5 \\frac{g}{m^3}) * e^{-\\frac{(1.75 d)}{10 d}}  + (0.5 \\frac{g}{ m^3})\n",
    "$"
   ]
  },
  {
   "cell_type": "markdown",
   "id": "424c1889",
   "metadata": {},
   "source": [
    "$\n",
    "C_t = 0.080 \\frac{g}{m^3}\n",
    "$"
   ]
  },
  {
   "cell_type": "code",
   "execution_count": 33,
   "id": "8efcc70f",
   "metadata": {},
   "outputs": [
    {
     "data": {
      "text/latex": [
       "$\\displaystyle \\frac{d}{d t} C{\\left(t \\right)} = 0.05 - 0.1 C{\\left(t \\right)}$"
      ],
      "text/plain": [
       "Eq(Derivative(C(t), t), 0.05 - 0.1*C(t))"
      ]
     },
     "execution_count": 33,
     "metadata": {},
     "output_type": "execute_result"
    }
   ],
   "source": [
    "t = symbols(\"t\")\n",
    "C = Function(\"C\")\n",
    "V = 1\n",
    "\n",
    "eqT = Eq(V*C(t).diff(t,1), 0.05 -0.1*C(t))\n",
    "eqT"
   ]
  },
  {
   "cell_type": "code",
   "execution_count": 34,
   "id": "f9b9c049",
   "metadata": {},
   "outputs": [],
   "source": [
    "ciT = {C(0):0} #C0 es de 0 g/m3"
   ]
  },
  {
   "cell_type": "code",
   "execution_count": 35,
   "id": "bec181d9",
   "metadata": {},
   "outputs": [],
   "source": [
    "eqTSolved = dsolve(eqT, C(t),ics=ciT)"
   ]
  },
  {
   "cell_type": "code",
   "execution_count": 36,
   "id": "ea74f72a",
   "metadata": {},
   "outputs": [
    {
     "data": {
      "text/latex": [
       "$\\displaystyle C{\\left(t \\right)} = 0.5 - 0.5 e^{- 0.1 t}$"
      ],
      "text/plain": [
       "Eq(C(t), 0.5 - 0.5*exp(-0.1*t))"
      ]
     },
     "execution_count": 36,
     "metadata": {},
     "output_type": "execute_result"
    }
   ],
   "source": [
    "eqTSolved"
   ]
  },
  {
   "cell_type": "code",
   "execution_count": 37,
   "id": "653bc575",
   "metadata": {},
   "outputs": [
    {
     "data": {
      "image/png": "[encoded data removed]",
      "text/plain": [
       "<Figure size 640x480 with 1 Axes>"
      ]
     },
     "metadata": {},
     "output_type": "display_data"
    },
    {
     "data": {
      "text/plain": [
       "<sympy.plotting.plot.Plot at 0x2200ef03ad0>"
      ]
     },
     "execution_count": 37,
     "metadata": {},
     "output_type": "execute_result"
    }
   ],
   "source": [
    "plot(eqTSolved.rhs, (t,0,10),  line_color=\"red\", ylabel=\"C(t), $g*m^3$\", xlabel =\"días\")"
   ]
  },
  {
   "cell_type": "code",
   "execution_count": 38,
   "id": "ee626cd4",
   "metadata": {},
   "outputs": [
    {
     "data": {
      "text/latex": [
       "$\\displaystyle C{\\left(0.0 \\right)} = 0$"
      ],
      "text/plain": [
       "Eq(C(0.0), 0)"
      ]
     },
     "metadata": {},
     "output_type": "display_data"
    },
    {
     "data": {
      "text/latex": [
       "$\\displaystyle C{\\left(0.256410256410256 \\right)} = 0.0126575431459239$"
      ],
      "text/plain": [
       "Eq(C(0.256410256410256), 0.0126575431459239)"
      ]
     },
     "metadata": {},
     "output_type": "display_data"
    },
    {
     "data": {
      "text/latex": [
       "$\\displaystyle C{\\left(0.512820512820513 \\right)} = 0.024994659494866$"
      ],
      "text/plain": [
       "Eq(C(0.512820512820513), 0.024994659494866)"
      ]
     },
     "metadata": {},
     "output_type": "display_data"
    },
    {
     "data": {
      "text/latex": [
       "$\\displaystyle C{\\left(0.769230769230769 \\right)} = 0.037019460678842$"
      ],
      "text/plain": [
       "Eq(C(0.769230769230769), 0.037019460678842)"
      ]
     },
     "metadata": {},
     "output_type": "display_data"
    },
    {
     "data": {
      "text/latex": [
       "$\\displaystyle C{\\left(1.02564102564103 \\right)} = 0.0487398529832034$"
      ],
      "text/plain": [
       "Eq(C(1.02564102564103), 0.0487398529832034)"
      ]
     },
     "metadata": {},
     "output_type": "display_data"
    },
    {
     "data": {
      "text/latex": [
       "$\\displaystyle C{\\left(1.28205128205128 \\right)} = 0.0601635425450055$"
      ],
      "text/plain": [
       "Eq(C(1.28205128205128), 0.0601635425450055)"
      ]
     },
     "metadata": {},
     "output_type": "display_data"
    },
    {
     "data": {
      "text/latex": [
       "$\\displaystyle C{\\left(1.53846153846154 \\right)} = 0.0712980404197794$"
      ],
      "text/plain": [
       "Eq(C(1.53846153846154), 0.0712980404197794)"
      ]
     },
     "metadata": {},
     "output_type": "display_data"
    },
    {
     "data": {
      "text/latex": [
       "$\\displaystyle C{\\left(1.79487179487179 \\right)} = 0.0821506675200369$"
      ],
      "text/plain": [
       "Eq(C(1.79487179487179), 0.0821506675200369)"
      ]
     },
     "metadata": {},
     "output_type": "display_data"
    },
    {
     "data": {
      "text/latex": [
       "$\\displaystyle C{\\left(2.05128205128205 \\right)} = 0.0927285594287582$"
      ],
      "text/plain": [
       "Eq(C(2.05128205128205), 0.0927285594287582)"
      ]
     },
     "metadata": {},
     "output_type": "display_data"
    },
    {
     "data": {
      "text/latex": [
       "$\\displaystyle C{\\left(2.30769230769231 \\right)} = 0.103038671091024$"
      ],
      "text/plain": [
       "Eq(C(2.30769230769231), 0.103038671091024)"
      ]
     },
     "metadata": {},
     "output_type": "display_data"
    },
    {
     "data": {
      "text/latex": [
       "$\\displaystyle C{\\left(2.56410256410256 \\right)} = 0.113087781386882$"
      ],
      "text/plain": [
       "Eq(C(2.56410256410256), 0.113087781386882)"
      ]
     },
     "metadata": {},
     "output_type": "display_data"
    },
    {
     "data": {
      "text/latex": [
       "$\\displaystyle C{\\left(2.82051282051282 \\right)} = 0.122882497588443$"
      ],
      "text/plain": [
       "Eq(C(2.82051282051282), 0.122882497588443)"
      ]
     },
     "metadata": {},
     "output_type": "display_data"
    },
    {
     "data": {
      "text/latex": [
       "$\\displaystyle C{\\left(3.07692307692308 \\right)} = 0.132429259704158$"
      ],
      "text/plain": [
       "Eq(C(3.07692307692308), 0.132429259704158)"
      ]
     },
     "metadata": {},
     "output_type": "display_data"
    },
    {
     "data": {
      "text/latex": [
       "$\\displaystyle C{\\left(3.33333333333333 \\right)} = 0.141734344713105$"
      ],
      "text/plain": [
       "Eq(C(3.33333333333333), 0.141734344713105)"
      ]
     },
     "metadata": {},
     "output_type": "display_data"
    },
    {
     "data": {
      "text/latex": [
       "$\\displaystyle C{\\left(3.58974358974359 \\right)} = 0.150803870692099$"
      ],
      "text/plain": [
       "Eq(C(3.58974358974359), 0.150803870692099)"
      ]
     },
     "metadata": {},
     "output_type": "display_data"
    },
    {
     "data": {
      "text/latex": [
       "$\\displaystyle C{\\left(3.84615384615385 \\right)} = 0.159643800838307$"
      ],
      "text/plain": [
       "Eq(C(3.84615384615385), 0.159643800838307)"
      ]
     },
     "metadata": {},
     "output_type": "display_data"
    },
    {
     "data": {
      "text/latex": [
       "$\\displaystyle C{\\left(4.1025641025641 \\right)} = 0.168259947390051$"
      ],
      "text/plain": [
       "Eq(C(4.1025641025641), 0.168259947390051)"
      ]
     },
     "metadata": {},
     "output_type": "display_data"
    },
    {
     "data": {
      "text/latex": [
       "$\\displaystyle C{\\left(4.35897435897436 \\right)} = 0.176657975448334$"
      ],
      "text/plain": [
       "Eq(C(4.35897435897436), 0.176657975448334)"
      ]
     },
     "metadata": {},
     "output_type": "display_data"
    },
    {
     "data": {
      "text/latex": [
       "$\\displaystyle C{\\left(4.61538461538461 \\right)} = 0.18484340670164$"
      ],
      "text/plain": [
       "Eq(C(4.61538461538461), 0.18484340670164)"
      ]
     },
     "metadata": {},
     "output_type": "display_data"
    },
    {
     "data": {
      "text/latex": [
       "$\\displaystyle C{\\left(4.87179487179487 \\right)} = 0.192821623056433$"
      ],
      "text/plain": [
       "Eq(C(4.87179487179487), 0.192821623056433)"
      ]
     },
     "metadata": {},
     "output_type": "display_data"
    },
    {
     "data": {
      "text/latex": [
       "$\\displaystyle C{\\left(5.12820512820513 \\right)} = 0.200597870175749$"
      ],
      "text/plain": [
       "Eq(C(5.12820512820513), 0.200597870175749)"
      ]
     },
     "metadata": {},
     "output_type": "display_data"
    },
    {
     "data": {
      "text/latex": [
       "$\\displaystyle C{\\left(5.38461538461538 \\right)} = 0.208177260928213$"
      ],
      "text/plain": [
       "Eq(C(5.38461538461538), 0.208177260928213)"
      ]
     },
     "metadata": {},
     "output_type": "display_data"
    },
    {
     "data": {
      "text/latex": [
       "$\\displaystyle C{\\left(5.64102564102564 \\right)} = 0.215564778749739$"
      ],
      "text/plain": [
       "Eq(C(5.64102564102564), 0.215564778749739)"
      ]
     },
     "metadata": {},
     "output_type": "display_data"
    },
    {
     "data": {
      "text/latex": [
       "$\\displaystyle C{\\left(5.8974358974359 \\right)} = 0.22276528092013$"
      ],
      "text/plain": [
       "Eq(C(5.8974358974359), 0.22276528092013)"
      ]
     },
     "metadata": {},
     "output_type": "display_data"
    },
    {
     "data": {
      "text/latex": [
       "$\\displaystyle C{\\left(6.15384615384615 \\right)} = 0.229783501756733$"
      ],
      "text/plain": [
       "Eq(C(6.15384615384615), 0.229783501756733)"
      ]
     },
     "metadata": {},
     "output_type": "display_data"
    },
    {
     "data": {
      "text/latex": [
       "$\\displaystyle C{\\left(6.41025641025641 \\right)} = 0.236624055727242$"
      ],
      "text/plain": [
       "Eq(C(6.41025641025641), 0.236624055727242)"
      ]
     },
     "metadata": {},
     "output_type": "display_data"
    },
    {
     "data": {
      "text/latex": [
       "$\\displaystyle C{\\left(6.66666666666667 \\right)} = 0.243291440483704$"
      ],
      "text/plain": [
       "Eq(C(6.66666666666667), 0.243291440483704)"
      ]
     },
     "metadata": {},
     "output_type": "display_data"
    },
    {
     "data": {
      "text/latex": [
       "$\\displaystyle C{\\left(6.92307692307692 \\right)} = 0.249790039819715$"
      ],
      "text/plain": [
       "Eq(C(6.92307692307692), 0.249790039819715)"
      ]
     },
     "metadata": {},
     "output_type": "display_data"
    },
    {
     "data": {
      "text/latex": [
       "$\\displaystyle C{\\left(7.17948717948718 \\right)} = 0.256124126552759$"
      ],
      "text/plain": [
       "Eq(C(7.17948717948718), 0.256124126552759)"
      ]
     },
     "metadata": {},
     "output_type": "display_data"
    },
    {
     "data": {
      "text/latex": [
       "$\\displaystyle C{\\left(7.43589743589744 \\right)} = 0.262297865333575$"
      ],
      "text/plain": [
       "Eq(C(7.43589743589744), 0.262297865333575)"
      ]
     },
     "metadata": {},
     "output_type": "display_data"
    },
    {
     "data": {
      "text/latex": [
       "$\\displaystyle C{\\left(7.69230769230769 \\right)} = 0.268315315384412$"
      ],
      "text/plain": [
       "Eq(C(7.69230769230769), 0.268315315384412)"
      ]
     },
     "metadata": {},
     "output_type": "display_data"
    },
    {
     "data": {
      "text/latex": [
       "$\\displaystyle C{\\left(7.94871794871795 \\right)} = 0.274180433167955$"
      ],
      "text/plain": [
       "Eq(C(7.94871794871795), 0.274180433167955)"
      ]
     },
     "metadata": {},
     "output_type": "display_data"
    },
    {
     "data": {
      "text/latex": [
       "$\\displaystyle C{\\left(8.2051282051282 \\right)} = 0.279897074988696$"
      ],
      "text/plain": [
       "Eq(C(8.2051282051282), 0.279897074988696)"
      ]
     },
     "metadata": {},
     "output_type": "display_data"
    },
    {
     "data": {
      "text/latex": [
       "$\\displaystyle C{\\left(8.46153846153846 \\right)} = 0.285468999528446$"
      ],
      "text/plain": [
       "Eq(C(8.46153846153846), 0.285468999528446)"
      ]
     },
     "metadata": {},
     "output_type": "display_data"
    },
    {
     "data": {
      "text/latex": [
       "$\\displaystyle C{\\left(8.71794871794872 \\right)} = 0.29089987031766$"
      ],
      "text/plain": [
       "Eq(C(8.71794871794872), 0.29089987031766)"
      ]
     },
     "metadata": {},
     "output_type": "display_data"
    },
    {
     "data": {
      "text/latex": [
       "$\\displaystyle C{\\left(8.97435897435897 \\right)} = 0.296193258144205$"
      ],
      "text/plain": [
       "Eq(C(8.97435897435897), 0.296193258144205)"
      ]
     },
     "metadata": {},
     "output_type": "display_data"
    },
    {
     "data": {
      "text/latex": [
       "$\\displaystyle C{\\left(9.23076923076923 \\right)} = 0.301352643401144$"
      ],
      "text/plain": [
       "Eq(C(9.23076923076923), 0.301352643401144)"
      ]
     },
     "metadata": {},
     "output_type": "display_data"
    },
    {
     "data": {
      "text/latex": [
       "$\\displaystyle C{\\left(9.48717948717949 \\right)} = 0.306381418375092$"
      ],
      "text/plain": [
       "Eq(C(9.48717948717949), 0.306381418375092)"
      ]
     },
     "metadata": {},
     "output_type": "display_data"
    },
    {
     "data": {
      "text/latex": [
       "$\\displaystyle C{\\left(9.74358974358974 \\right)} = 0.311282889476632$"
      ],
      "text/plain": [
       "Eq(C(9.74358974358974), 0.311282889476632)"
      ]
     },
     "metadata": {},
     "output_type": "display_data"
    },
    {
     "data": {
      "text/latex": [
       "$\\displaystyle C{\\left(10.0 \\right)} = 0.316060279414279$"
      ],
      "text/plain": [
       "Eq(C(10.0), 0.316060279414279)"
      ]
     },
     "metadata": {},
     "output_type": "display_data"
    }
   ],
   "source": [
    "rangot = np.linspace(0,10,40)\n",
    "\n",
    "for i in range(40): \n",
    "    display(eqTSolved.subs(t,rangot[i]).evalf())"
   ]
  },
  {
   "cell_type": "markdown",
   "id": "24f4ee47",
   "metadata": {},
   "source": [
    "<hr>"
   ]
  },
  {
   "cell_type": "markdown",
   "id": "1094e911",
   "metadata": {},
   "source": [
    "$\n",
    "V\\frac{dC}{dt} = (0.5 \\frac{m^3}{d} * 0.1 \\frac{g}{m^3})-(0.1 \\frac{m^3}{d}*C_s)-(0.4 \\frac{m^3}{d}*C_s)\n",
    "$"
   ]
  },
  {
   "cell_type": "markdown",
   "id": "c0e6174d",
   "metadata": {},
   "source": [
    "$\n",
    "V\\frac{dC}{dt} = (0.5 \\frac{m^3}{d} * 0.1 \\frac{g}{m^3})- C_s (0.1 \\frac{m^3}{d} + 0.4 \\frac{m^3}{d})\n",
    "$"
   ]
  },
  {
   "cell_type": "markdown",
   "id": "2bd2008b",
   "metadata": {},
   "source": [
    "$\n",
    "V\\frac{dC}{dt} = (0.05 \\frac{g}{d} )- C_s ( 0.5 \\frac{m^3}{d})\n",
    "$"
   ]
  },
  {
   "cell_type": "markdown",
   "id": "bcafbf0f",
   "metadata": {},
   "source": [
    "$\n",
    "\\frac{dC}{dt} = \\frac{(0.05 \\frac{g}{d} )}{1 m^3}- \\frac{C_s ( 0.5 \\frac{m^3}{d})}{1m^3}\n",
    "$"
   ]
  },
  {
   "cell_type": "markdown",
   "id": "cb06b966",
   "metadata": {},
   "source": [
    "$\n",
    "\\frac{dC}{dt} = (0.05 \\frac{g}{d*m^3} )- C_s ( 0.5 \\frac{1}{d})\n",
    "$"
   ]
  },
  {
   "cell_type": "markdown",
   "id": "2b38971c",
   "metadata": {},
   "source": [
    "$\n",
    "-\\frac{dC}{dt} =  C_s ( 0.5 \\frac{1}{d}) - (0.05 \\frac{g}{d*m^3} )\n",
    "$"
   ]
  },
  {
   "cell_type": "markdown",
   "id": "d6179dfd",
   "metadata": {},
   "source": [
    "$\n",
    "y = C_s ( 0.5 \\frac{1}{d}) - (0.05 \\frac{g}{d*m^3} )\n",
    "$"
   ]
  },
  {
   "cell_type": "markdown",
   "id": "5b660b61",
   "metadata": {},
   "source": [
    "$\n",
    "\\frac{dy}{dC} = 0.5\n",
    "$"
   ]
  },
  {
   "cell_type": "markdown",
   "id": "2ef75429",
   "metadata": {},
   "source": [
    "$\n",
    "dC = 2dy\n",
    "$"
   ]
  },
  {
   "cell_type": "markdown",
   "id": "7293f5e9",
   "metadata": {},
   "source": [
    "$\n",
    "-2 \\frac{dy}{dt} = y\n",
    "$"
   ]
  },
  {
   "cell_type": "markdown",
   "id": "98a6ca58",
   "metadata": {},
   "source": [
    "Integrando"
   ]
  },
  {
   "cell_type": "markdown",
   "id": "e53d252f",
   "metadata": {},
   "source": [
    "Tomamos como $C_0$ a 0.08 $g/m^3$ del ejercicio anterior"
   ]
  },
  {
   "cell_type": "markdown",
   "id": "c6061cac",
   "metadata": {},
   "source": [
    "$\n",
    "-2 * ln \\left( \\frac{C_t ( 0.5 \\frac{1}{d}) - (0.05 \\frac{g}{d*m^3} )}{0.08 * ( 0.5 \\frac{1}{d}) - (0.05 \\frac{g}{d*m^3} )} \\right) = t - t_0\n",
    "$"
   ]
  },
  {
   "cell_type": "markdown",
   "id": "68192859",
   "metadata": {},
   "source": [
    "$\n",
    "C_t = 2(-0.01*e^{-\\frac{t-t_0}{2}} + 0.05)\n",
    "$"
   ]
  },
  {
   "cell_type": "markdown",
   "id": "7f8a118a",
   "metadata": {},
   "source": [
    "$\n",
    "C_t = (-0.02*e^{-\\frac{t-t_0}{2}} + 0.1)\n",
    "$"
   ]
  },
  {
   "cell_type": "code",
   "execution_count": 39,
   "id": "2ef2c911",
   "metadata": {},
   "outputs": [
    {
     "data": {
      "text/latex": [
       "$\\displaystyle \\frac{d}{d t} C{\\left(t \\right)} = 0.05 - 0.5 C{\\left(t \\right)}$"
      ],
      "text/plain": [
       "Eq(Derivative(C(t), t), 0.05 - 0.5*C(t))"
      ]
     },
     "execution_count": 39,
     "metadata": {},
     "output_type": "execute_result"
    }
   ],
   "source": [
    "t = symbols(\"t\")\n",
    "C = Function(\"C\")\n",
    "V = 1\n",
    "\n",
    "eqT2 = Eq(V*C(t).diff(t,1), 0.05 -0.5*C(t))\n",
    "eqT2"
   ]
  },
  {
   "cell_type": "code",
   "execution_count": 40,
   "id": "626bf150",
   "metadata": {},
   "outputs": [],
   "source": [
    "ciT = {C(0):0.08} #C0 es de 0 g/m3"
   ]
  },
  {
   "cell_type": "code",
   "execution_count": 41,
   "id": "4a961f48",
   "metadata": {},
   "outputs": [
    {
     "data": {
      "text/latex": [
       "$\\displaystyle C{\\left(t \\right)} = 0.1 - 0.02 e^{- 0.5 t}$"
      ],
      "text/plain": [
       "Eq(C(t), 0.1 - 0.02*exp(-0.5*t))"
      ]
     },
     "execution_count": 41,
     "metadata": {},
     "output_type": "execute_result"
    }
   ],
   "source": [
    "eqTSolved2 = dsolve(eqT2, C(t),ics=ciT)\n",
    "eqTSolved2"
   ]
  },
  {
   "cell_type": "code",
   "execution_count": 42,
   "id": "62501d2d",
   "metadata": {},
   "outputs": [
    {
     "data": {
      "image/png": "[encoded data removed]",
      "text/plain": [
       "<Figure size 640x480 with 1 Axes>"
      ]
     },
     "metadata": {},
     "output_type": "display_data"
    },
    {
     "data": {
      "text/plain": [
       "<sympy.plotting.plot.Plot at 0x2200f20a290>"
      ]
     },
     "execution_count": 42,
     "metadata": {},
     "output_type": "execute_result"
    }
   ],
   "source": [
    "plot(eqTSolved2.rhs, (t,0,10),  line_color=\"red\", ylabel=\"C(t), $g*m^3$\", xlabel =\"días\")"
   ]
  },
  {
   "cell_type": "markdown",
   "id": "2d01a661",
   "metadata": {},
   "source": [
    "## <font style=\"color:red\">EJEMPLO 6</font>"
   ]
  },
  {
   "cell_type": "markdown",
   "id": "5c49d918",
   "metadata": {},
   "source": [
    "Con base en el siguiente esquema estime la velocidad en que cambia la altura del agua cada vez que se va llenando la sección cónica."
   ]
  },
  {
   "attachments": {
    "image.png": {
     "image/png": "[encoded data removed]"
    }
   },
   "cell_type": "markdown",
   "id": "2cd47d7e",
   "metadata": {},
   "source": [
    "![image.png](attachment:image.png)"
   ]
  },
  {
   "cell_type": "markdown",
   "id": "10ffc9cf",
   "metadata": {},
   "source": [
    "Recordemos que el volumen de un cono es:"
   ]
  },
  {
   "cell_type": "markdown",
   "id": "46839b76",
   "metadata": {},
   "source": [
    "$\n",
    "V = \\frac{1}{3} * \\pi * r^2 * h \n",
    "$"
   ]
  },
  {
   "cell_type": "markdown",
   "id": "de9ae07f",
   "metadata": {},
   "source": [
    "La tasa de cambio del volumen es:"
   ]
  },
  {
   "cell_type": "markdown",
   "id": "a32f41cf",
   "metadata": {},
   "source": [
    "$\n",
    "\\frac{dV}{dt} = Q = 1 \\frac{mL}{s}\n",
    "$"
   ]
  },
  {
   "cell_type": "markdown",
   "id": "a6cc6b07",
   "metadata": {},
   "source": [
    "Si:"
   ]
  },
  {
   "cell_type": "markdown",
   "id": "07b35650",
   "metadata": {},
   "source": [
    "$D=H$"
   ]
  },
  {
   "cell_type": "markdown",
   "id": "72ea1f5a",
   "metadata": {},
   "source": [
    "$d=h$"
   ]
  },
  {
   "cell_type": "markdown",
   "id": "9970f29e",
   "metadata": {},
   "source": [
    "Entonces:"
   ]
  },
  {
   "cell_type": "markdown",
   "id": "64bdbf05",
   "metadata": {},
   "source": [
    "$r=\\frac{d}{2}=\\frac{h}{2}$"
   ]
  },
  {
   "cell_type": "markdown",
   "id": "2d32f785",
   "metadata": {},
   "source": [
    "Siendo $r$ el radio de la sección cónica con el volumen inicial de agua"
   ]
  },
  {
   "cell_type": "markdown",
   "id": "d2602958",
   "metadata": {},
   "source": [
    "$\n",
    "V = \\frac{1}{3} * \\pi * \\frac{h^2}{4} * h \n",
    "$"
   ]
  },
  {
   "cell_type": "markdown",
   "id": "40f6626f",
   "metadata": {},
   "source": [
    "$\n",
    "V = \\frac{1}{3} * \\pi * \\frac{h^3}{4}\n",
    "$"
   ]
  },
  {
   "cell_type": "markdown",
   "id": "95b0fb6e",
   "metadata": {},
   "source": [
    "$\n",
    "V = \\frac{\\pi}{12} * h^3\n",
    "$"
   ]
  },
  {
   "cell_type": "markdown",
   "id": "b68ba315",
   "metadata": {},
   "source": [
    "Nuestra ecuación quedaría:"
   ]
  },
  {
   "cell_type": "markdown",
   "id": "a0eb0958",
   "metadata": {},
   "source": [
    "$\n",
    "\\frac{dV}{dt} = \\frac{\\pi}{12} \\frac{d h^3}{dt}\n",
    "$"
   ]
  },
  {
   "cell_type": "markdown",
   "id": "7217781c",
   "metadata": {},
   "source": [
    "Para resolverla procedemos a:"
   ]
  },
  {
   "cell_type": "markdown",
   "id": "149c5fee",
   "metadata": {},
   "source": [
    "$\n",
    "\\frac{dV}{dt} = \\frac{\\pi}{12} \\frac{d h(t)^3}{dt}\n",
    "$"
   ]
  },
  {
   "cell_type": "markdown",
   "id": "06e51a5c",
   "metadata": {},
   "source": [
    "Aplicamos regla de la cadena:"
   ]
  },
  {
   "cell_type": "markdown",
   "id": "ad818d51",
   "metadata": {},
   "source": [
    "Regla de la cadena:\n",
    "$\n",
    "\\frac{dy}{dx} = \\frac{dy}{du}  * \\frac{du}{dx}\n",
    "$"
   ]
  },
  {
   "cell_type": "markdown",
   "id": "f16d1384",
   "metadata": {},
   "source": [
    "Regla de la cadena:\n",
    "$\n",
    "\\frac{d}{dx} (H(x)) = \\frac{d}{dx} (f(g(x)))  * \\frac{d}{dx}(g(x))\n",
    "$"
   ]
  },
  {
   "cell_type": "markdown",
   "id": "af8fc3a6",
   "metadata": {},
   "source": [
    "Regla de la cadena: $g(x)= u$ y  $f(g(x)) = f(u)$, siendo $f(u)= ... $"
   ]
  },
  {
   "cell_type": "markdown",
   "id": "26de978e",
   "metadata": {},
   "source": [
    "$f(u)$: es la función externa"
   ]
  },
  {
   "cell_type": "markdown",
   "id": "20fddcf7",
   "metadata": {},
   "source": [
    "$u=g(x)$: es el dominio de la función externa $f(u)$"
   ]
  },
  {
   "cell_type": "markdown",
   "id": "ce5a0c4f",
   "metadata": {},
   "source": [
    "$\\frac{dy}{du}$:  es la derivada de la función externa $f(u)$ en términos de $u$.\n"
   ]
  },
  {
   "cell_type": "markdown",
   "id": "acaba81c",
   "metadata": {},
   "source": [
    "$\\frac{du}{dx}$:  es la derivada de la función interna $g(x)$ en términos de $x$."
   ]
  },
  {
   "cell_type": "markdown",
   "id": "58dd8fe5",
   "metadata": {},
   "source": [
    "De acuerdo a esta regla:"
   ]
  },
  {
   "cell_type": "markdown",
   "id": "ceedc861",
   "metadata": {},
   "source": [
    "$\n",
    "\\frac{dV}{dt} = \\frac{\\pi}{12} \\frac{d(h(t))^3}{dt}\n",
    "$"
   ]
  },
  {
   "cell_type": "markdown",
   "id": "961e94e4",
   "metadata": {},
   "source": [
    "$u= h$"
   ]
  },
  {
   "cell_type": "markdown",
   "id": "289c526f",
   "metadata": {},
   "source": [
    "$g(t)=u$"
   ]
  },
  {
   "cell_type": "markdown",
   "id": "cf9f2eea",
   "metadata": {},
   "source": [
    "$f(g(t))= f(u)$"
   ]
  },
  {
   "cell_type": "markdown",
   "id": "337f163a",
   "metadata": {},
   "source": [
    "$f(u) = u^3$"
   ]
  },
  {
   "cell_type": "markdown",
   "id": "80f77622",
   "metadata": {},
   "source": [
    "$\n",
    "\\frac{dV}{dt} = \\frac{\\pi}{12} \\frac{d(f(u))}{du} * \\frac{du}{dt}\n",
    "$"
   ]
  },
  {
   "cell_type": "markdown",
   "id": "d472837b",
   "metadata": {},
   "source": [
    "$\n",
    "\\frac{dV}{dt} = \\frac{\\pi}{12} \\frac{du^3}{du} * \\frac{du}{dt}\n",
    "$"
   ]
  },
  {
   "cell_type": "markdown",
   "id": "eb08cadb",
   "metadata": {},
   "source": [
    "$\n",
    "\\frac{dV}{dt} = \\frac{\\pi}{12} * 3u^2* \\frac{du}{dt}\n",
    "$"
   ]
  },
  {
   "cell_type": "markdown",
   "id": "cc78f1be",
   "metadata": {},
   "source": [
    "$\n",
    "\\frac{dV}{dt} = \\frac{\\pi}{12} * 3u^2* \\frac{dh}{dt}\n",
    "$"
   ]
  },
  {
   "cell_type": "markdown",
   "id": "0eb6a524",
   "metadata": {},
   "source": [
    "$\n",
    "1 \\frac{mL}{s} = \\frac{\\pi}{12} * 3h^2* \\frac{dh}{dt}\n",
    "$"
   ]
  },
  {
   "cell_type": "markdown",
   "id": "b88f99a9",
   "metadata": {},
   "source": [
    "$\n",
    "1 \\frac{mL}{s} = \\frac{\\pi}{4} * h^2* \\frac{dh}{dt}\n",
    "$"
   ]
  },
  {
   "cell_type": "markdown",
   "id": "81b31fe1",
   "metadata": {},
   "source": [
    "$\n",
    "\\frac{4}{\\pi} \\frac{mL}{s} = h^2* \\frac{dh}{dt}\n",
    "$"
   ]
  },
  {
   "cell_type": "markdown",
   "id": "5e6d8b6c",
   "metadata": {},
   "source": [
    "$\n",
    "\\frac{4}{h^2* \\pi} \\frac{mL}{s} = \\frac{dh}{dt}\n",
    "$"
   ]
  },
  {
   "cell_type": "markdown",
   "id": "445af577",
   "metadata": {},
   "source": [
    "Pasando $mL$ a $cm^3$"
   ]
  },
  {
   "cell_type": "markdown",
   "id": "874793bd",
   "metadata": {},
   "source": [
    "$\n",
    "\\frac{4}{h^2* \\pi} \\frac{cm^3}{s} = \\frac{dh}{dt}\n",
    "$"
   ]
  },
  {
   "cell_type": "markdown",
   "id": "aecbaa66",
   "metadata": {},
   "source": [
    "$\n",
    "\\frac{4}{2cm^2* \\pi} \\frac{cm^3}{s} = \\frac{dh}{dt}\n",
    "$"
   ]
  },
  {
   "cell_type": "markdown",
   "id": "bd3d9184",
   "metadata": {},
   "source": [
    "$\n",
    "\\frac{dh}{dt}= \\frac{1}{\\pi} \\frac{cm}{s}\n",
    "$"
   ]
  },
  {
   "cell_type": "markdown",
   "id": "c4c0c3a4",
   "metadata": {},
   "source": [
    "En que tiempo alcanza el estado estacionario?"
   ]
  },
  {
   "cell_type": "markdown",
   "id": "3b7a248f",
   "metadata": {},
   "source": [
    "$\n",
    "\\int_{2cm}^{4cm} h^2 dh = \\frac{4}{\\pi} \\frac{cm}{s} \\int_{0 seg}^{t}  dt\n",
    "$"
   ]
  },
  {
   "cell_type": "markdown",
   "id": "4070e6ff",
   "metadata": {},
   "source": [
    "$\\frac{4^3 cm^3}{3} - \\frac{2^3 cm^3}{3} = \\frac{4}{\\pi} \\frac{cm}{s} * t$"
   ]
  },
  {
   "cell_type": "markdown",
   "id": "e904a3d7",
   "metadata": {},
   "source": [
    "t = symbols(\"t\")\n",
    "C = Function(\"C\")\n",
    "V = 1\n",
    "\n",
    "eqT2 = Eq(V*C(t).diff(t,1), 0.05 -0.5*C(t))\n",
    "eqT2\n",
    "ciT = {C(0):0.08} #C0 es de 0 g/m3\n",
    "eqTSolved2 = dsolve(eqT2, C(t),ics=ciT)\n",
    "eqTSolved2\n",
    "\n",
    "plot(eqTSolved2.rhs, (t,0,10),  line_color=\"red\", ylabel=\"C(t), $g*m^3$\", xlabel =\"días\")"
   ]
  },
  {
   "cell_type": "code",
   "execution_count": 43,
   "id": "d016b749",
   "metadata": {},
   "outputs": [],
   "source": [
    "tiempo = symbols(\"t\")\n",
    "h = Function(\"h\")\n",
    "Constante = 4/ np.pi"
   ]
  },
  {
   "cell_type": "code",
   "execution_count": 44,
   "id": "7f6d7948",
   "metadata": {},
   "outputs": [],
   "source": [
    "EcuacionDiferencial = Eq(h(t).diff(tiempo,1), Constante/h(tiempo)**2)"
   ]
  },
  {
   "cell_type": "code",
   "execution_count": 45,
   "id": "e4f0d9da",
   "metadata": {},
   "outputs": [
    {
     "data": {
      "text/latex": [
       "$\\displaystyle \\frac{d}{d t} h{\\left(t \\right)} = \\frac{1.27323954473516}{h^{2}{\\left(t \\right)}}$"
      ],
      "text/plain": [
       "Eq(Derivative(h(t), t), 1.27323954473516/h(t)**2)"
      ]
     },
     "execution_count": 45,
     "metadata": {},
     "output_type": "execute_result"
    }
   ],
   "source": [
    "EcuacionDiferencial"
   ]
  },
  {
   "cell_type": "code",
   "execution_count": 46,
   "id": "9ce1d444",
   "metadata": {},
   "outputs": [],
   "source": [
    "h_inicial = {h(0):2}"
   ]
  },
  {
   "cell_type": "code",
   "execution_count": 47,
   "id": "ff7f81e5",
   "metadata": {},
   "outputs": [],
   "source": [
    "SolucionEcuacion = dsolve(EcuacionDiferencial,h(tiempo), ics=h_inicial)"
   ]
  },
  {
   "cell_type": "code",
   "execution_count": 48,
   "id": "806297a9",
   "metadata": {},
   "outputs": [
    {
     "data": {
      "text/latex": [
       "$\\displaystyle h{\\left(t \\right)} = 2.0 \\sqrt[3]{0.477464829275682 t + 1}$"
      ],
      "text/plain": [
       "Eq(h(t), 2.0*(0.477464829275682*t + 1)**(1/3))"
      ]
     },
     "execution_count": 48,
     "metadata": {},
     "output_type": "execute_result"
    }
   ],
   "source": [
    "SolucionEcuacion"
   ]
  },
  {
   "cell_type": "code",
   "execution_count": 49,
   "id": "32b2c423",
   "metadata": {},
   "outputs": [
    {
     "data": {
      "image/png": "[encoded data removed]",
      "text/plain": [
       "<Figure size 640x480 with 1 Axes>"
      ]
     },
     "metadata": {},
     "output_type": "display_data"
    },
    {
     "data": {
      "text/plain": [
       "<sympy.plotting.plot.Plot at 0x2201094acd0>"
      ]
     },
     "execution_count": 49,
     "metadata": {},
     "output_type": "execute_result"
    }
   ],
   "source": [
    "plot(SolucionEcuacion.rhs, (t,0,15),  line_color=\"red\", ylabel=\"h(t), cm\", xlabel =\"seg.\")"
   ]
  }
 ],
 "metadata": {
  "kernelspec": {
   "display_name": "Python 3 (ipykernel)",
   "language": "python",
   "name": "python3"
  },
  "language_info": {
   "codemirror_mode": {
    "name": "ipython",
    "version": 3
   },
   "file_extension": ".py",
   "mimetype": "text/x-python",
   "name": "python",
   "nbconvert_exporter": "python",
   "pygments_lexer": "ipython3",
   "version": "3.11.3"
  }
 },
 "nbformat": 4,
 "nbformat_minor": 5
}
