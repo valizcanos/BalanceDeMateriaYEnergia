{
  "nbformat": 4,
  "nbformat_minor": 0,
  "metadata": {
    "colab": {
      "provenance": [],
      "authorship_tag": "ABX9TyNazktr7P62MWVKwJQ+zsxz",
      "include_colab_link": true
    },
    "kernelspec": {
      "name": "python3",
      "display_name": "Python 3"
    },
    "language_info": {
      "name": "python"
    }
  },
  "cells": [
    {
      "cell_type": "markdown",
      "metadata": {
        "id": "view-in-github",
        "colab_type": "text"
      },
      "source": [
        "<a href=\"https://colab.research.google.com/github/valizcanos/BalanceDeMateriaYEnergia/blob/main/1_AnalisisDimensional.ipynb\" target=\"_parent\"><img src=\"https://colab.research.google.com/assets/colab-badge.svg\" alt=\"Open In Colab\"/></a>"
      ]
    },
    {
      "cell_type": "code",
      "execution_count": 1,
      "metadata": {
        "id": "s42p5M7ADN1w"
      },
      "outputs": [],
      "source": [
        "import pandas as pd\n",
        "import numpy as np\n",
        "from matplotlib import pyplot as plt"
      ]
    },
    {
      "cell_type": "markdown",
      "source": [
        "# <u> Manual de \"markdown\" para la escritura de textos científicos en Python </u> <br>\n",
        "\n",
        "<a href=\"https://www.markdownguide.org/basic-syntax/\">Bases de Markdown </a>\n",
        "\n",
        "<a href=\"https://www.markdownguide.org/extended-syntax/\"> Guía avanzada</a>"
      ],
      "metadata": {
        "id": "a7gR5lQvbSgf"
      }
    },
    {
      "cell_type": "markdown",
      "source": [
        "# <u> Manual de \"MathJax\" para la notación matemática en textos científicos </u> <br>\n",
        "\n",
        "<a href=\"https://math.meta.stackexchange.com/questions/5020/mathjax-basic-tutorial-and-quick-reference\">Guía básica de MathJax</a>"
      ],
      "metadata": {
        "id": "IOkc3973c6ay"
      }
    },
    {
      "cell_type": "markdown",
      "source": [
        "# Análisis dimensional:\n",
        "<p>El análisis dimensional es una de las herramientas más valiosas que utilizan los científicos y los ingenieros. Permite la conversión entre una cantidad en una unidad a la cantidad correspondiente en una unidad deseada usando varios factores de conversión. </p> <br>\n",
        "\n",
        "<p><b> Simbología para el análisis dimensional en unidades primarias:</b></p> <br>\n",
        "<p>Masa: [M]</p> <br>\n",
        "<p>Longitud: [L]</p> <br>\n",
        "<p>Tiempo: [T]</p> <br>\n",
        "<p>Temperatura: [$\\theta$]</p> <br>\n",
        "\n"
      ],
      "metadata": {
        "id": "lNJxoxwga_Kk"
      }
    },
    {
      "cell_type": "markdown",
      "source": [
        "<p>Miremos unos ejemplos:</p> <br>\n",
        "\n",
        "<p> <b> 1. Ecuación de la energía cinética: </b></p>\n",
        "$$E_{cinética} = {\\frac 1 2} m {\\vec V^{2}} $$\n",
        "\n",
        "\n"
      ],
      "metadata": {
        "id": "2aCwHvsOUeug"
      }
    },
    {
      "cell_type": "markdown",
      "source": [
        "$\\require{cancel}$ <!-- Librería para visualizar la cancelación de unidades -->\n",
        "$E_{cinética} = {\\frac 1 2} [M] {\\frac {[L]^2}{[T]^2}} $ <br>\n",
        "$E_{cinética} = {\\frac 1 2} [M] {\\frac {[L]}{[T]^2}} [L] $ <br>\n",
        "<p>La unidad de la energía cinética en el S.I. es el Joule (J)</p> <br>\n",
        "\n",
        "<p>De acuerdo al análisis dimensional 1 J tiene unidades de: </p> <br>\n",
        "\n",
        "<p> Masa, longitud y tiempo, que las podriamos representar en términos de velocidad y aceleración segun el caso: </p> <br>\n",
        "\n",
        "$E_{cinética} = {\\frac 1 2} [Masa] {[\\vec {velocidad}]^2} $ <br>\n",
        "$E_{cinética} = {\\frac 1 2} [kg] {[\\frac {m}{s}]^2} $ <br>\n",
        "$E_{cinética} = {\\frac 1 2} [Masa] {[aceleración] * [distancia]} $ <br>\n",
        "$E_{cinética} = {\\frac 1 2} [kg] {\\left[\\frac {m}{s^2} \\right] * [m]} $ <br>\n",
        "$1 J = 1 kg {\\frac {m^2}{s^2}}$"
      ],
      "metadata": {
        "id": "4FgIh6ziioLd"
      }
    },
    {
      "cell_type": "markdown",
      "source": [
        "<b> 2. Imagine que un químico quiere medir 0.214 ml de benceno, pero carece del equipo para medir con precisión un volumen tan pequeño. El químico, sin embargo, está equipado con una balanza analítica capaz de medir $\\pm 0.0001g$. Mirando en una tabla de referencia, el químico aprende la densidad del benceno $(\\rho=0.8765g/mL)$. ¿Cuántos gramos de benceno debe usar el químico?</b> <br>"
      ],
      "metadata": {
        "id": "A0PpOrcTqSq2"
      }
    },
    {
      "cell_type": "markdown",
      "source": [
        "<p>Gramos de benceno a usar: </p> <br>\n",
        "$gramos_{benceno} = Volumen *  densidad$ <br>\n",
        "$g_{b} = 0.214 \\cancel{ml} * 0.8765 {\\frac {g}{\\cancel{ml}}}$ <br>\n",
        "$g_{b} = 0.187571 g$ <br>\n",
        "<p> Observe que los ml se dividieron por ml, una unidad equivalente. </p> <br>\n",
        "<p>Ya que este resultado tiene demasiadas cifras significativas y debe redondearse a tres dígitos significativos (esto se debe a que 0,214 mL tiene tres dígitos significativos y el factor de conversión tenía cuatro dígitos significativos.).</p> <br>\n",
        "\n",
        "<p>$g_{b} = 0.188 g$</p>"
      ],
      "metadata": {
        "id": "Zp1KxCb6sJz2"
      }
    },
    {
      "cell_type": "markdown",
      "source": [
        "# **EJEMPLOS DE CONVERSIÓN DE UNIDADES**"
      ],
      "metadata": {
        "id": "LCVQ_CKkw-2z"
      }
    },
    {
      "cell_type": "markdown",
      "source": [
        "<p>Para este caso creareamos funciones en <b>Python</b> para realizar conversiones de unidades del Sistema Internacional (SI) al Sistema Inglés o viceversa.</p>"
      ],
      "metadata": {
        "id": "Ue-e1ZihxSRD"
      }
    },
    {
      "cell_type": "markdown",
      "source": [
        "<p>Unidades básicas del SI:</p>\n",
        "$\n",
        "\\begin{array}{|c|c|c|}\n",
        "\\hline\n",
        "  \\text{Simbolo} & \\text{Nombre} & \\text{Magnitud} \\\\ \n",
        "\\hline\n",
        "   s & Segundo & Tiempo \\\\\n",
        "\\hline\n",
        "   m & Metro & Longitud \\\\\n",
        "\\hline\n",
        "   kg & Kilogramo & Masa \\\\ \n",
        "\\hline\n",
        "   A & Amperio & Corriente \\hspace{2mm} eléctrica \\\\\n",
        "\\hline\n",
        "   mol & Mol & Cantidad \\hspace{2mm} de \\hspace{2mm} sustancia \\\\\n",
        "\\hline\n",
        "   cd & Candela & Intensidad \\hspace{2mm} luminosa \\\\ \n",
        "\\hline\n",
        "   K & Kelvin & Temperatura \\hspace{2mm} luminosa \\\\ \n",
        "\\hline\n",
        "\\end{array}\n",
        "$"
      ],
      "metadata": {
        "id": "3PpkFUL0y1ER"
      }
    },
    {
      "cell_type": "markdown",
      "source": [
        "<p><b>Nota: </b> la sintaxis para crear funciones en <b>Python</b> la pueden consultar en el siguiente enlace <a href=\"https://www.w3schools.com/python/python_functions.asp\"> \"Funciones en Python\"</a>. </p>"
      ],
      "metadata": {
        "id": "kSbVCSeIxrsd"
      }
    },
    {
      "cell_type": "markdown",
      "source": [
        "## **Ejemplo 1:**\n",
        "\n",
        "<p>Algunas unidades de longitud empleadas en el sistema alglosajón son el pie (ft), la milla (ml) y la pulgada (in), cuyo equivalente a metros es de: </p> <br>\n",
        "1.) 1 ft = 0.3048 m <br>\n",
        "2.) 1 mi = 1609.344 m <br>\n",
        "3.) 1 in = 0.0254 m <br>\n",
        "\n",
        "<p>De acuerdo con la información mostrada, cree una función que permita pasar de metros a pies (millas y pulgadas) y de pies (millas y pulgadas) a metros.</p>\n"
      ],
      "metadata": {
        "id": "G2Ny304_yV30"
      }
    },
    {
      "cell_type": "markdown",
      "source": [
        "$1\\cancel{m} * {\\frac {1 ft}{0.3048 \\cancel{m}}} = 3.2808 ft$ <br>\n",
        "$1 \\cancel{m} * {\\frac {1 mi}{1609.344 \\cancel{m}}} = 6.214*10^{-4} mi$ <br>\n",
        "$1 \\cancel{m} * {\\frac {1 in}{0.0254 \\cancel{m}}} = 39.370 in$ <br>\n",
        "<hr>\n",
        "$1 \\cancel{ft} * {\\frac {0.3048 m}{1 \\cancel{ft}}} = 0.3048 m$ <br>\n",
        "$1 \\cancel{ft} * {\\frac {12 in}{1 \\cancel{ft}}} = 12 in$ <br>\n",
        "$1 \\cancel{ft} * {\\frac {0.00018939 mi}{1 \\cancel{ft}}} = 1.8939*10^{-4} mi$ <br>\n",
        "<hr>\n",
        "$1 \\cancel{in} * {\\frac {0.0254 m}{1 \\cancel{in}}} = 2.54*10^{-2} m$ <br>\n",
        "$1 \\cancel{in} * {\\frac {1 ft}{12 \\cancel{in}}} = 8.33*10^{-2} ft$ <br>\n",
        "$1 \\cancel{in} * {\\frac {0.0000157828 mi}{1 \\cancel{in}}} = 1.57828*10^{-5} mi$ <br>\n",
        "<hr>\n",
        "$1 \\cancel{mi} * {\\frac {1609.344 m}{1 \\cancel{mi}}} = 1609.344 m$ <br>\n",
        "$1 \\cancel{mi} * {\\frac {1 ft}{0.00018939 \\cancel{mi}}} = 5280.110 ft$ <br>\n",
        "$1 \\cancel{mi} * {\\frac {1 in}{0.0000157828 \\cancel{mi}}} = 63360.114 in$ <br>"
      ],
      "metadata": {
        "id": "AZ2BcjVzKj-Y"
      }
    },
    {
      "cell_type": "code",
      "source": [
        "# Transformar unidades de longitud\n",
        "# Definir función\n",
        "# Para este caso llamaremos a nuestra función ConvLong\n",
        "\n",
        "def ConvLong(und1,und2, valor): #Esta función convierte el valor dado de la unidad 1 (und1) a la unidad 2 (und 2).\n",
        "  if und1==\"m\" and und2==\"ft\":\n",
        "    Respuesta = valor/0.3048\n",
        "  elif und1==\"m\" and und2==\"mi\":\n",
        "    Respuesta = valor/1609.344\n",
        "  elif und1==\"m\" and und2==\"in\":\n",
        "    Respuesta = valor/0.0254\n",
        "  elif und1==\"ft\" and und2==\"m\":\n",
        "    Respuesta = valor * 0.348\n",
        "  elif und1==\"ft\" and und2==\"in\":\n",
        "    Respuesta = valor * 12\n",
        "  elif und1==\"ft\" and und2==\"mi\":\n",
        "    Respuesta = valor * 0.00018939\n",
        "  elif und1==\"in\" and und2==\"m\":\n",
        "    Respuesta = valor * 0.0254\n",
        "  elif und1==\"in\" and und2==\"ft\":\n",
        "    Respuesta = valor/12\n",
        "  elif und1==\"in\" and und2==\"mi\":\n",
        "    Respuesta = valor*0.0000157828\n",
        "  elif und1==\"mi\" and und2==\"m\":\n",
        "    Respuesta = valor*1609.344\n",
        "  elif und1==\"mi\" and und2==\"ft\":\n",
        "    Respuesta = valor*5280.100\n",
        "  elif und1==\"mi\" and und2==\"in\":\n",
        "    Respuesta = valor*63360.114\n",
        "\n",
        "  print(valor, \" \", und1, \" equivalen a \", Respuesta, \" \", und2)\n",
        "\n",
        "# siglas que le daremos a las unidades metros (m), pies (ft), pulgadas (in), millas (mi)"
      ],
      "metadata": {
        "id": "Wg1XOFL-Ukh1"
      },
      "execution_count": 2,
      "outputs": []
    },
    {
      "cell_type": "code",
      "source": [
        "# vamos a probar nuestra función convirtiendo 57 metros a pulgadas\n",
        "\n",
        "ConvLong(\"m\",\"in\",57)"
      ],
      "metadata": {
        "colab": {
          "base_uri": "https://localhost:8080/"
        },
        "id": "envJJmgeZ1Za",
        "outputId": "575388d7-f075-4eab-fc71-0c837bad6925"
      },
      "execution_count": 3,
      "outputs": [
        {
          "output_type": "stream",
          "name": "stdout",
          "text": [
            "57   m  equivalen a  2244.0944881889764   in\n"
          ]
        }
      ]
    },
    {
      "cell_type": "code",
      "source": [
        "# vamos a convertir 8 millas a metros\n",
        "\n",
        "ConvLong(\"mi\",\"m\",8)"
      ],
      "metadata": {
        "colab": {
          "base_uri": "https://localhost:8080/"
        },
        "id": "ZzhimcT8aXkx",
        "outputId": "bb596bfa-f399-4988-b687-36f07d24a750"
      },
      "execution_count": 4,
      "outputs": [
        {
          "output_type": "stream",
          "name": "stdout",
          "text": [
            "8   mi  equivalen a  12874.752   m\n"
          ]
        }
      ]
    },
    {
      "cell_type": "markdown",
      "source": [
        "## **Ejemplo 2:**\n",
        "<p>Crear una función que permitas transformar unidades de calor como Joules, Btu y calorías.</p>"
      ],
      "metadata": {
        "id": "x5eYHWUDdsrt"
      }
    },
    {
      "cell_type": "markdown",
      "source": [
        "$1 J = 1kg *{\\frac {m^2}{s^2}} = 1 N*m = 1 Pa*m^{3} = 1 W*s = 9.478 * 10^{-4} Btu = 2.389 *10^{-4} kcal $ <br>\n",
        "$1 N = 1kg *{\\frac {m}{s^2}} = {\\frac {Pa}{m^2}}$ <br>"
      ],
      "metadata": {
        "id": "C89K3BIueHjC"
      }
    },
    {
      "cell_type": "code",
      "source": [
        "def ConvEner(und1,und2, valor):\n",
        "  if und1==\"J\" and und2==\"Btu\":\n",
        "    Respuesta = valor*(9.478/10000)\n",
        "  elif und1==\"J\" and und2==\"cal\":\n",
        "    Respuesta = valor*(2.389/10)\n",
        "  elif und1==\"Btu\" and und2==\"J\":\n",
        "    Respuesta = valor*(10000/9.478)\n",
        "  elif und1==\"Btu\" and und2==\"cal\":\n",
        "    Respuesta = valor*((1000*2.389)/9.478)\n",
        "  elif und1==\"cal\" and und2==\"J\":\n",
        "    Respuesta = valor*(10/2.389)\n",
        "  elif und1==\"cal\" and und2==\"Btu\":\n",
        "    Respuesta = valor*(9.478/(2.389*1000))\n",
        "  print(valor, \" \", und1, \" equivalen a \", Respuesta, \" \", und2)\n",
        "\n",
        "# siglas que le daremos a las unidades Joules (J), calorías (ca), British thermal units (Btu)"
      ],
      "metadata": {
        "id": "waV8PsITkxHV"
      },
      "execution_count": 8,
      "outputs": []
    },
    {
      "cell_type": "code",
      "source": [
        "# Convertir 100 calorías a Joules\n",
        "\n",
        "ConvEner(\"cal\",\"J\",100)"
      ],
      "metadata": {
        "colab": {
          "base_uri": "https://localhost:8080/"
        },
        "id": "5arCbTWlnJw-",
        "outputId": "6fe34b1e-43b6-463b-f829-2634c700588c"
      },
      "execution_count": 10,
      "outputs": [
        {
          "output_type": "stream",
          "name": "stdout",
          "text": [
            "100   cal  equivalen a  418.5851820845542   J\n"
          ]
        }
      ]
    },
    {
      "cell_type": "code",
      "source": [
        "# Convertir 100 J a Btu\n",
        "\n",
        "ConvEner(\"J\",\"Btu\",100)"
      ],
      "metadata": {
        "colab": {
          "base_uri": "https://localhost:8080/"
        },
        "id": "sLQCga1ToWdX",
        "outputId": "0c479db5-22f0-4fb9-81ed-77afd34eb0de"
      },
      "execution_count": 11,
      "outputs": [
        {
          "output_type": "stream",
          "name": "stdout",
          "text": [
            "100   J  equivalen a  0.09477999999999999   Btu\n"
          ]
        }
      ]
    },
    {
      "cell_type": "markdown",
      "source": [
        "# **EJERCICIOS**\n",
        "\n",
        "<p>1. Crear una función que permita la conversión de las siguientes unidades concentración: molaridad (M), normalidad (N), peso-volumen (pv) y partes por millón (ppm). Emplee las variables que considere necesarias para desarrollar su función.</p>\n",
        "\n",
        "<p>2. Crear una función que permita la conversión de al menos tres unidades de presión.</p>"
      ],
      "metadata": {
        "id": "xxn7JLR8kMAM"
      }
    }
  ]
}